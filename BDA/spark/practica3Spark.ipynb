{
 "cells": [
  {
   "cell_type": "code",
   "execution_count": 0,
   "metadata": {
    "application/vnd.databricks.v1+cell": {
     "cellMetadata": {
      "byteLimit": 2048000,
      "rowLimit": 10000
     },
     "inputWidgets": {},
     "nuid": "08c8afea-8bac-4bb1-8523-bdc0e7072e21",
     "showTitle": false,
     "tableResultSettingsMap": {},
     "title": ""
    }
   },
   "outputs": [
    {
     "output_type": "execute_result",
     "data": {
      "text/html": [
       "\n",
       "            <div>\n",
       "                <p><b>SparkSession - hive</b></p>\n",
       "                \n",
       "        <div>\n",
       "            <p><b>SparkContext</b></p>\n",
       "\n",
       "            <p><a href=\"/?o=1171292650739230#setting/sparkui/0223-191152-v1scl63c/driver-5330448113037213810\">Spark UI</a></p>\n",
       "\n",
       "            <dl>\n",
       "              <dt>Version</dt>\n",
       "                <dd><code>v3.5.0</code></dd>\n",
       "              <dt>Master</dt>\n",
       "                <dd><code>local[8]</code></dd>\n",
       "              <dt>AppName</dt>\n",
       "                <dd><code>Databricks Shell</code></dd>\n",
       "            </dl>\n",
       "        </div>\n",
       "        \n",
       "            </div>\n",
       "        "
      ],
      "text/plain": [
       "<pyspark.sql.session.SparkSession at 0x7f343a2134d0>"
      ]
     },
     "execution_count": 558,
     "metadata": {},
     "output_type": "execute_result"
    }
   ],
   "source": [
    "spark"
   ]
  },
  {
   "cell_type": "markdown",
   "metadata": {
    "application/vnd.databricks.v1+cell": {
     "cellMetadata": {
      "byteLimit": 2048000,
      "rowLimit": 10000
     },
     "inputWidgets": {},
     "nuid": "18eb45b7-995f-4837-b11b-b60069e60a49",
     "showTitle": false,
     "tableResultSettingsMap": {},
     "title": ""
    }
   },
   "source": [
    "# Ejercicio 1: Análisis de los tiempos de los pilotos por en las Carreras"
   ]
  },
  {
   "cell_type": "markdown",
   "metadata": {
    "application/vnd.databricks.v1+cell": {
     "cellMetadata": {
      "byteLimit": 2048000,
      "rowLimit": 10000
     },
     "inputWidgets": {},
     "nuid": "e35b130f-dd95-4d20-bcf1-620f9e5764b4",
     "showTitle": false,
     "tableResultSettingsMap": {},
     "title": ""
    }
   },
   "source": [
    "Objetivo: Analizar los tiempos de vuelta de los pilotos para identificar los mejores rendimientos en cada circuito."
   ]
  },
  {
   "cell_type": "markdown",
   "metadata": {
    "application/vnd.databricks.v1+cell": {
     "cellMetadata": {
      "byteLimit": 2048000,
      "rowLimit": 10000
     },
     "inputWidgets": {},
     "nuid": "c5cd9089-c9b4-4f37-869c-ddf47864c7b5",
     "showTitle": false,
     "tableResultSettingsMap": {},
     "title": ""
    }
   },
   "source": [
    "##### 1. Carga los datos de tiempos por vueltas, circuitos, pilotos y carreras."
   ]
  },
  {
   "cell_type": "code",
   "execution_count": 0,
   "metadata": {
    "application/vnd.databricks.v1+cell": {
     "cellMetadata": {
      "byteLimit": 2048000,
      "rowLimit": 10000
     },
     "inputWidgets": {},
     "nuid": "278e81e7-64ca-4a24-8662-23394468d12c",
     "showTitle": false,
     "tableResultSettingsMap": {},
     "title": ""
    }
   },
   "outputs": [],
   "source": [
    "df_laps = spark.read.csv('dbfs:/FileStore/tables/lap_times.csv', header=True, inferSchema=True)\n",
    "df_circuits = spark.read.csv('dbfs:/FileStore/tables/circuits.csv', header=True, inferSchema=True)\n",
    "df_drivers = spark.read.csv('dbfs:/FileStore/tables/drivers.csv', header=True, inferSchema=True)\n",
    "df_races = spark.read.csv('dbfs:/FileStore/tables/races.csv', header=True, inferSchema=True) "
   ]
  },
  {
   "cell_type": "markdown",
   "metadata": {
    "application/vnd.databricks.v1+cell": {
     "cellMetadata": {
      "byteLimit": 2048000,
      "rowLimit": 10000
     },
     "inputWidgets": {},
     "nuid": "4aa4b8a2-822f-42a7-a4c5-4a40a668dd4b",
     "showTitle": false,
     "tableResultSettingsMap": {},
     "title": ""
    }
   },
   "source": [
    " el archivo es grande y la conversión a un DataFrame de pandas consume demasiada memoria"
   ]
  },
  {
   "cell_type": "markdown",
   "metadata": {
    "application/vnd.databricks.v1+cell": {
     "cellMetadata": {
      "byteLimit": 2048000,
      "rowLimit": 10000
     },
     "inputWidgets": {},
     "nuid": "0431dcbf-1c77-41c6-8e0f-cd833b5dba00",
     "showTitle": false,
     "tableResultSettingsMap": {},
     "title": ""
    }
   },
   "source": [
    "##### 2. Explora los DataFrames para entender su estructura y los datos que contienen"
   ]
  },
  {
   "cell_type": "code",
   "execution_count": 0,
   "metadata": {
    "application/vnd.databricks.v1+cell": {
     "cellMetadata": {
      "byteLimit": 2048000,
      "rowLimit": 10000
     },
     "inputWidgets": {},
     "nuid": "07e07fe4-cf76-47e4-a52c-1e3e100e683f",
     "showTitle": false,
     "tableResultSettingsMap": {},
     "title": ""
    }
   },
   "outputs": [],
   "source": [
    "df_laps_pd = df_laps.toPandas()\n",
    "df_circuits_pd = df_circuits.toPandas()\n",
    "df_drivers_pd = df_drivers.toPandas()\n",
    "df_races_pd = df_races.toPandas()"
   ]
  },
  {
   "cell_type": "code",
   "execution_count": 0,
   "metadata": {
    "application/vnd.databricks.v1+cell": {
     "cellMetadata": {
      "byteLimit": 2048000,
      "rowLimit": 10000
     },
     "inputWidgets": {},
     "nuid": "db0a179b-0490-4fe6-b6e6-d500554bc0aa",
     "showTitle": false,
     "tableResultSettingsMap": {},
     "title": ""
    }
   },
   "outputs": [
    {
     "output_type": "stream",
     "name": "stdout",
     "output_type": "stream",
     "text": [
      "<class 'pandas.core.frame.DataFrame'>\nRangeIndex: 589081 entries, 0 to 589080\nData columns (total 6 columns):\n #   Column        Non-Null Count   Dtype \n---  ------        --------------   ----- \n 0   raceId        589081 non-null  int32 \n 1   driverId      589081 non-null  int32 \n 2   lap           589081 non-null  int32 \n 3   position      589081 non-null  int32 \n 4   time          589081 non-null  object\n 5   milliseconds  589081 non-null  int32 \ndtypes: int32(5), object(1)\nmemory usage: 15.7+ MB\n"
     ]
    },
    {
     "output_type": "execute_result",
     "data": {
      "text/html": [
       "<div>\n",
       "<style scoped>\n",
       "    .dataframe tbody tr th:only-of-type {\n",
       "        vertical-align: middle;\n",
       "    }\n",
       "\n",
       "    .dataframe tbody tr th {\n",
       "        vertical-align: top;\n",
       "    }\n",
       "\n",
       "    .dataframe thead th {\n",
       "        text-align: right;\n",
       "    }\n",
       "</style>\n",
       "<table border=\"1\" class=\"dataframe\">\n",
       "  <thead>\n",
       "    <tr style=\"text-align: right;\">\n",
       "      <th></th>\n",
       "      <th>raceId</th>\n",
       "      <th>driverId</th>\n",
       "      <th>lap</th>\n",
       "      <th>position</th>\n",
       "      <th>time</th>\n",
       "      <th>milliseconds</th>\n",
       "    </tr>\n",
       "  </thead>\n",
       "  <tbody>\n",
       "    <tr>\n",
       "      <th>0</th>\n",
       "      <td>841</td>\n",
       "      <td>20</td>\n",
       "      <td>1</td>\n",
       "      <td>1</td>\n",
       "      <td>1:38.109</td>\n",
       "      <td>98109</td>\n",
       "    </tr>\n",
       "    <tr>\n",
       "      <th>1</th>\n",
       "      <td>841</td>\n",
       "      <td>20</td>\n",
       "      <td>2</td>\n",
       "      <td>1</td>\n",
       "      <td>1:33.006</td>\n",
       "      <td>93006</td>\n",
       "    </tr>\n",
       "    <tr>\n",
       "      <th>2</th>\n",
       "      <td>841</td>\n",
       "      <td>20</td>\n",
       "      <td>3</td>\n",
       "      <td>1</td>\n",
       "      <td>1:32.713</td>\n",
       "      <td>92713</td>\n",
       "    </tr>\n",
       "    <tr>\n",
       "      <th>3</th>\n",
       "      <td>841</td>\n",
       "      <td>20</td>\n",
       "      <td>4</td>\n",
       "      <td>1</td>\n",
       "      <td>1:32.803</td>\n",
       "      <td>92803</td>\n",
       "    </tr>\n",
       "    <tr>\n",
       "      <th>4</th>\n",
       "      <td>841</td>\n",
       "      <td>20</td>\n",
       "      <td>5</td>\n",
       "      <td>1</td>\n",
       "      <td>1:32.342</td>\n",
       "      <td>92342</td>\n",
       "    </tr>\n",
       "  </tbody>\n",
       "</table>\n",
       "</div>"
      ],
      "text/plain": [
       "   raceId  driverId  lap  position      time  milliseconds\n",
       "0     841        20    1         1  1:38.109         98109\n",
       "1     841        20    2         1  1:33.006         93006\n",
       "2     841        20    3         1  1:32.713         92713\n",
       "3     841        20    4         1  1:32.803         92803\n",
       "4     841        20    5         1  1:32.342         92342"
      ]
     },
     "execution_count": 561,
     "metadata": {},
     "output_type": "execute_result"
    }
   ],
   "source": [
    "df_laps_pd.info()\n",
    "df_laps_pd.head()"
   ]
  },
  {
   "cell_type": "code",
   "execution_count": 0,
   "metadata": {
    "application/vnd.databricks.v1+cell": {
     "cellMetadata": {
      "byteLimit": 2048000,
      "rowLimit": 10000
     },
     "inputWidgets": {},
     "nuid": "75301dcd-23fa-4621-8e14-8e1f1811a5c9",
     "showTitle": false,
     "tableResultSettingsMap": {},
     "title": ""
    }
   },
   "outputs": [
    {
     "output_type": "execute_result",
     "data": {
      "text/plain": [
       "raceId          0\n",
       "driverId        0\n",
       "lap             0\n",
       "position        0\n",
       "time            0\n",
       "milliseconds    0\n",
       "dtype: int64"
      ]
     },
     "execution_count": 562,
     "metadata": {},
     "output_type": "execute_result"
    }
   ],
   "source": [
    "df_laps_pd.isnull().sum()"
   ]
  },
  {
   "cell_type": "code",
   "execution_count": 0,
   "metadata": {
    "application/vnd.databricks.v1+cell": {
     "cellMetadata": {
      "byteLimit": 2048000,
      "rowLimit": 10000
     },
     "inputWidgets": {},
     "nuid": "2bd5f55b-5638-4c6c-83fc-2c25f6acc16a",
     "showTitle": false,
     "tableResultSettingsMap": {},
     "title": ""
    }
   },
   "outputs": [
    {
     "output_type": "stream",
     "name": "stdout",
     "output_type": "stream",
     "text": [
      "<class 'pandas.core.frame.DataFrame'>\nRangeIndex: 77 entries, 0 to 76\nData columns (total 9 columns):\n #   Column      Non-Null Count  Dtype  \n---  ------      --------------  -----  \n 0   circuitId   77 non-null     int32  \n 1   circuitRef  77 non-null     object \n 2   name        77 non-null     object \n 3   location    77 non-null     object \n 4   country     77 non-null     object \n 5   lat         77 non-null     float64\n 6   lng         77 non-null     float64\n 7   alt         77 non-null     int32  \n 8   url         77 non-null     object \ndtypes: float64(2), int32(2), object(5)\nmemory usage: 4.9+ KB\n"
     ]
    },
    {
     "output_type": "execute_result",
     "data": {
      "text/html": [
       "<div>\n",
       "<style scoped>\n",
       "    .dataframe tbody tr th:only-of-type {\n",
       "        vertical-align: middle;\n",
       "    }\n",
       "\n",
       "    .dataframe tbody tr th {\n",
       "        vertical-align: top;\n",
       "    }\n",
       "\n",
       "    .dataframe thead th {\n",
       "        text-align: right;\n",
       "    }\n",
       "</style>\n",
       "<table border=\"1\" class=\"dataframe\">\n",
       "  <thead>\n",
       "    <tr style=\"text-align: right;\">\n",
       "      <th></th>\n",
       "      <th>circuitId</th>\n",
       "      <th>circuitRef</th>\n",
       "      <th>name</th>\n",
       "      <th>location</th>\n",
       "      <th>country</th>\n",
       "      <th>lat</th>\n",
       "      <th>lng</th>\n",
       "      <th>alt</th>\n",
       "      <th>url</th>\n",
       "    </tr>\n",
       "  </thead>\n",
       "  <tbody>\n",
       "    <tr>\n",
       "      <th>0</th>\n",
       "      <td>1</td>\n",
       "      <td>albert_park</td>\n",
       "      <td>Albert Park Grand Prix Circuit</td>\n",
       "      <td>Melbourne</td>\n",
       "      <td>Australia</td>\n",
       "      <td>-37.84970</td>\n",
       "      <td>144.96800</td>\n",
       "      <td>10</td>\n",
       "      <td>http://en.wikipedia.org/wiki/Melbourne_Grand_P...</td>\n",
       "    </tr>\n",
       "    <tr>\n",
       "      <th>1</th>\n",
       "      <td>2</td>\n",
       "      <td>sepang</td>\n",
       "      <td>Sepang International Circuit</td>\n",
       "      <td>Kuala Lumpur</td>\n",
       "      <td>Malaysia</td>\n",
       "      <td>2.76083</td>\n",
       "      <td>101.73800</td>\n",
       "      <td>18</td>\n",
       "      <td>http://en.wikipedia.org/wiki/Sepang_Internatio...</td>\n",
       "    </tr>\n",
       "    <tr>\n",
       "      <th>2</th>\n",
       "      <td>3</td>\n",
       "      <td>bahrain</td>\n",
       "      <td>Bahrain International Circuit</td>\n",
       "      <td>Sakhir</td>\n",
       "      <td>Bahrain</td>\n",
       "      <td>26.03250</td>\n",
       "      <td>50.51060</td>\n",
       "      <td>7</td>\n",
       "      <td>http://en.wikipedia.org/wiki/Bahrain_Internati...</td>\n",
       "    </tr>\n",
       "    <tr>\n",
       "      <th>3</th>\n",
       "      <td>4</td>\n",
       "      <td>catalunya</td>\n",
       "      <td>Circuit de Barcelona-Catalunya</td>\n",
       "      <td>Montmeló</td>\n",
       "      <td>Spain</td>\n",
       "      <td>41.57000</td>\n",
       "      <td>2.26111</td>\n",
       "      <td>109</td>\n",
       "      <td>http://en.wikipedia.org/wiki/Circuit_de_Barcel...</td>\n",
       "    </tr>\n",
       "    <tr>\n",
       "      <th>4</th>\n",
       "      <td>5</td>\n",
       "      <td>istanbul</td>\n",
       "      <td>Istanbul Park</td>\n",
       "      <td>Istanbul</td>\n",
       "      <td>Turkey</td>\n",
       "      <td>40.95170</td>\n",
       "      <td>29.40500</td>\n",
       "      <td>130</td>\n",
       "      <td>http://en.wikipedia.org/wiki/Istanbul_Park</td>\n",
       "    </tr>\n",
       "  </tbody>\n",
       "</table>\n",
       "</div>"
      ],
      "text/plain": [
       "   circuitId  ...                                                url\n",
       "0          1  ...  http://en.wikipedia.org/wiki/Melbourne_Grand_P...\n",
       "1          2  ...  http://en.wikipedia.org/wiki/Sepang_Internatio...\n",
       "2          3  ...  http://en.wikipedia.org/wiki/Bahrain_Internati...\n",
       "3          4  ...  http://en.wikipedia.org/wiki/Circuit_de_Barcel...\n",
       "4          5  ...         http://en.wikipedia.org/wiki/Istanbul_Park\n",
       "\n",
       "[5 rows x 9 columns]"
      ]
     },
     "execution_count": 563,
     "metadata": {},
     "output_type": "execute_result"
    }
   ],
   "source": [
    "df_circuits_pd.info()\n",
    "df_circuits_pd.head()"
   ]
  },
  {
   "cell_type": "code",
   "execution_count": 0,
   "metadata": {
    "application/vnd.databricks.v1+cell": {
     "cellMetadata": {
      "byteLimit": 2048000,
      "rowLimit": 10000
     },
     "inputWidgets": {},
     "nuid": "aed3cecd-c179-4083-831d-2acac5d96363",
     "showTitle": false,
     "tableResultSettingsMap": {},
     "title": ""
    }
   },
   "outputs": [
    {
     "output_type": "execute_result",
     "data": {
      "text/plain": [
       "circuitId     0\n",
       "circuitRef    0\n",
       "name          0\n",
       "location      0\n",
       "country       0\n",
       "lat           0\n",
       "lng           0\n",
       "alt           0\n",
       "url           0\n",
       "dtype: int64"
      ]
     },
     "execution_count": 564,
     "metadata": {},
     "output_type": "execute_result"
    }
   ],
   "source": [
    "df_circuits_pd.isnull().sum()"
   ]
  },
  {
   "cell_type": "code",
   "execution_count": 0,
   "metadata": {
    "application/vnd.databricks.v1+cell": {
     "cellMetadata": {
      "byteLimit": 2048000,
      "rowLimit": 10000
     },
     "inputWidgets": {},
     "nuid": "777c1b08-7aa9-4671-980d-be6d9fc6a272",
     "showTitle": false,
     "tableResultSettingsMap": {},
     "title": ""
    }
   },
   "outputs": [
    {
     "output_type": "stream",
     "name": "stdout",
     "output_type": "stream",
     "text": [
      "<class 'pandas.core.frame.DataFrame'>\nRangeIndex: 861 entries, 0 to 860\nData columns (total 9 columns):\n #   Column       Non-Null Count  Dtype \n---  ------       --------------  ----- \n 0   driverId     861 non-null    int32 \n 1   driverRef    861 non-null    object\n 2   number       861 non-null    object\n 3   code         861 non-null    object\n 4   forename     861 non-null    object\n 5   surname      861 non-null    object\n 6   dob          861 non-null    object\n 7   nationality  861 non-null    object\n 8   url          861 non-null    object\ndtypes: int32(1), object(8)\nmemory usage: 57.3+ KB\n"
     ]
    },
    {
     "output_type": "execute_result",
     "data": {
      "text/html": [
       "<div>\n",
       "<style scoped>\n",
       "    .dataframe tbody tr th:only-of-type {\n",
       "        vertical-align: middle;\n",
       "    }\n",
       "\n",
       "    .dataframe tbody tr th {\n",
       "        vertical-align: top;\n",
       "    }\n",
       "\n",
       "    .dataframe thead th {\n",
       "        text-align: right;\n",
       "    }\n",
       "</style>\n",
       "<table border=\"1\" class=\"dataframe\">\n",
       "  <thead>\n",
       "    <tr style=\"text-align: right;\">\n",
       "      <th></th>\n",
       "      <th>driverId</th>\n",
       "      <th>driverRef</th>\n",
       "      <th>number</th>\n",
       "      <th>code</th>\n",
       "      <th>forename</th>\n",
       "      <th>surname</th>\n",
       "      <th>dob</th>\n",
       "      <th>nationality</th>\n",
       "      <th>url</th>\n",
       "    </tr>\n",
       "  </thead>\n",
       "  <tbody>\n",
       "    <tr>\n",
       "      <th>0</th>\n",
       "      <td>1</td>\n",
       "      <td>hamilton</td>\n",
       "      <td>44</td>\n",
       "      <td>HAM</td>\n",
       "      <td>Lewis</td>\n",
       "      <td>Hamilton</td>\n",
       "      <td>1985-01-07</td>\n",
       "      <td>British</td>\n",
       "      <td>http://en.wikipedia.org/wiki/Lewis_Hamilton</td>\n",
       "    </tr>\n",
       "    <tr>\n",
       "      <th>1</th>\n",
       "      <td>2</td>\n",
       "      <td>heidfeld</td>\n",
       "      <td>\\N</td>\n",
       "      <td>HEI</td>\n",
       "      <td>Nick</td>\n",
       "      <td>Heidfeld</td>\n",
       "      <td>1977-05-10</td>\n",
       "      <td>German</td>\n",
       "      <td>http://en.wikipedia.org/wiki/Nick_Heidfeld</td>\n",
       "    </tr>\n",
       "    <tr>\n",
       "      <th>2</th>\n",
       "      <td>3</td>\n",
       "      <td>rosberg</td>\n",
       "      <td>6</td>\n",
       "      <td>ROS</td>\n",
       "      <td>Nico</td>\n",
       "      <td>Rosberg</td>\n",
       "      <td>1985-06-27</td>\n",
       "      <td>German</td>\n",
       "      <td>http://en.wikipedia.org/wiki/Nico_Rosberg</td>\n",
       "    </tr>\n",
       "    <tr>\n",
       "      <th>3</th>\n",
       "      <td>4</td>\n",
       "      <td>alonso</td>\n",
       "      <td>14</td>\n",
       "      <td>ALO</td>\n",
       "      <td>Fernando</td>\n",
       "      <td>Alonso</td>\n",
       "      <td>1981-07-29</td>\n",
       "      <td>Spanish</td>\n",
       "      <td>http://en.wikipedia.org/wiki/Fernando_Alonso</td>\n",
       "    </tr>\n",
       "    <tr>\n",
       "      <th>4</th>\n",
       "      <td>5</td>\n",
       "      <td>kovalainen</td>\n",
       "      <td>\\N</td>\n",
       "      <td>KOV</td>\n",
       "      <td>Heikki</td>\n",
       "      <td>Kovalainen</td>\n",
       "      <td>1981-10-19</td>\n",
       "      <td>Finnish</td>\n",
       "      <td>http://en.wikipedia.org/wiki/Heikki_Kovalainen</td>\n",
       "    </tr>\n",
       "  </tbody>\n",
       "</table>\n",
       "</div>"
      ],
      "text/plain": [
       "   driverId  ...                                             url\n",
       "0         1  ...     http://en.wikipedia.org/wiki/Lewis_Hamilton\n",
       "1         2  ...      http://en.wikipedia.org/wiki/Nick_Heidfeld\n",
       "2         3  ...       http://en.wikipedia.org/wiki/Nico_Rosberg\n",
       "3         4  ...    http://en.wikipedia.org/wiki/Fernando_Alonso\n",
       "4         5  ...  http://en.wikipedia.org/wiki/Heikki_Kovalainen\n",
       "\n",
       "[5 rows x 9 columns]"
      ]
     },
     "execution_count": 565,
     "metadata": {},
     "output_type": "execute_result"
    }
   ],
   "source": [
    "df_drivers_pd.info()\n",
    "df_drivers_pd.head()"
   ]
  },
  {
   "cell_type": "code",
   "execution_count": 0,
   "metadata": {
    "application/vnd.databricks.v1+cell": {
     "cellMetadata": {
      "byteLimit": 2048000,
      "rowLimit": 10000
     },
     "inputWidgets": {},
     "nuid": "ac807fc8-94bc-4df0-a5fb-852c9a3ae90d",
     "showTitle": false,
     "tableResultSettingsMap": {},
     "title": ""
    }
   },
   "outputs": [
    {
     "output_type": "execute_result",
     "data": {
      "text/plain": [
       "driverId       0\n",
       "driverRef      0\n",
       "number         0\n",
       "code           0\n",
       "forename       0\n",
       "surname        0\n",
       "dob            0\n",
       "nationality    0\n",
       "url            0\n",
       "dtype: int64"
      ]
     },
     "execution_count": 566,
     "metadata": {},
     "output_type": "execute_result"
    }
   ],
   "source": [
    "df_drivers_pd.isnull().sum()"
   ]
  },
  {
   "cell_type": "code",
   "execution_count": 0,
   "metadata": {
    "application/vnd.databricks.v1+cell": {
     "cellMetadata": {
      "byteLimit": 2048000,
      "rowLimit": 10000
     },
     "inputWidgets": {},
     "nuid": "cf584ec9-e6ee-4a57-bf16-3d8792b4da15",
     "showTitle": false,
     "tableResultSettingsMap": {},
     "title": ""
    }
   },
   "outputs": [
    {
     "output_type": "stream",
     "name": "stdout",
     "output_type": "stream",
     "text": [
      "<class 'pandas.core.frame.DataFrame'>\nRangeIndex: 1125 entries, 0 to 1124\nData columns (total 18 columns):\n #   Column       Non-Null Count  Dtype \n---  ------       --------------  ----- \n 0   raceId       1125 non-null   int32 \n 1   year         1125 non-null   int32 \n 2   round        1125 non-null   int32 \n 3   circuitId    1125 non-null   int32 \n 4   name         1125 non-null   object\n 5   date         1125 non-null   object\n 6   time         1125 non-null   object\n 7   url          1125 non-null   object\n 8   fp1_date     1125 non-null   object\n 9   fp1_time     1125 non-null   object\n 10  fp2_date     1125 non-null   object\n 11  fp2_time     1125 non-null   object\n 12  fp3_date     1125 non-null   object\n 13  fp3_time     1125 non-null   object\n 14  quali_date   1125 non-null   object\n 15  quali_time   1125 non-null   object\n 16  sprint_date  1125 non-null   object\n 17  sprint_time  1125 non-null   object\ndtypes: int32(4), object(14)\nmemory usage: 140.8+ KB\n"
     ]
    },
    {
     "output_type": "execute_result",
     "data": {
      "text/html": [
       "<div>\n",
       "<style scoped>\n",
       "    .dataframe tbody tr th:only-of-type {\n",
       "        vertical-align: middle;\n",
       "    }\n",
       "\n",
       "    .dataframe tbody tr th {\n",
       "        vertical-align: top;\n",
       "    }\n",
       "\n",
       "    .dataframe thead th {\n",
       "        text-align: right;\n",
       "    }\n",
       "</style>\n",
       "<table border=\"1\" class=\"dataframe\">\n",
       "  <thead>\n",
       "    <tr style=\"text-align: right;\">\n",
       "      <th></th>\n",
       "      <th>raceId</th>\n",
       "      <th>year</th>\n",
       "      <th>round</th>\n",
       "      <th>circuitId</th>\n",
       "      <th>name</th>\n",
       "      <th>date</th>\n",
       "      <th>time</th>\n",
       "      <th>url</th>\n",
       "      <th>fp1_date</th>\n",
       "      <th>fp1_time</th>\n",
       "      <th>fp2_date</th>\n",
       "      <th>fp2_time</th>\n",
       "      <th>fp3_date</th>\n",
       "      <th>fp3_time</th>\n",
       "      <th>quali_date</th>\n",
       "      <th>quali_time</th>\n",
       "      <th>sprint_date</th>\n",
       "      <th>sprint_time</th>\n",
       "    </tr>\n",
       "  </thead>\n",
       "  <tbody>\n",
       "    <tr>\n",
       "      <th>0</th>\n",
       "      <td>1</td>\n",
       "      <td>2009</td>\n",
       "      <td>1</td>\n",
       "      <td>1</td>\n",
       "      <td>Australian Grand Prix</td>\n",
       "      <td>2009-03-29</td>\n",
       "      <td>06:00:00</td>\n",
       "      <td>http://en.wikipedia.org/wiki/2009_Australian_G...</td>\n",
       "      <td>\\N</td>\n",
       "      <td>\\N</td>\n",
       "      <td>\\N</td>\n",
       "      <td>\\N</td>\n",
       "      <td>\\N</td>\n",
       "      <td>\\N</td>\n",
       "      <td>\\N</td>\n",
       "      <td>\\N</td>\n",
       "      <td>\\N</td>\n",
       "      <td>\\N</td>\n",
       "    </tr>\n",
       "    <tr>\n",
       "      <th>1</th>\n",
       "      <td>2</td>\n",
       "      <td>2009</td>\n",
       "      <td>2</td>\n",
       "      <td>2</td>\n",
       "      <td>Malaysian Grand Prix</td>\n",
       "      <td>2009-04-05</td>\n",
       "      <td>09:00:00</td>\n",
       "      <td>http://en.wikipedia.org/wiki/2009_Malaysian_Gr...</td>\n",
       "      <td>\\N</td>\n",
       "      <td>\\N</td>\n",
       "      <td>\\N</td>\n",
       "      <td>\\N</td>\n",
       "      <td>\\N</td>\n",
       "      <td>\\N</td>\n",
       "      <td>\\N</td>\n",
       "      <td>\\N</td>\n",
       "      <td>\\N</td>\n",
       "      <td>\\N</td>\n",
       "    </tr>\n",
       "    <tr>\n",
       "      <th>2</th>\n",
       "      <td>3</td>\n",
       "      <td>2009</td>\n",
       "      <td>3</td>\n",
       "      <td>17</td>\n",
       "      <td>Chinese Grand Prix</td>\n",
       "      <td>2009-04-19</td>\n",
       "      <td>07:00:00</td>\n",
       "      <td>http://en.wikipedia.org/wiki/2009_Chinese_Gran...</td>\n",
       "      <td>\\N</td>\n",
       "      <td>\\N</td>\n",
       "      <td>\\N</td>\n",
       "      <td>\\N</td>\n",
       "      <td>\\N</td>\n",
       "      <td>\\N</td>\n",
       "      <td>\\N</td>\n",
       "      <td>\\N</td>\n",
       "      <td>\\N</td>\n",
       "      <td>\\N</td>\n",
       "    </tr>\n",
       "    <tr>\n",
       "      <th>3</th>\n",
       "      <td>4</td>\n",
       "      <td>2009</td>\n",
       "      <td>4</td>\n",
       "      <td>3</td>\n",
       "      <td>Bahrain Grand Prix</td>\n",
       "      <td>2009-04-26</td>\n",
       "      <td>12:00:00</td>\n",
       "      <td>http://en.wikipedia.org/wiki/2009_Bahrain_Gran...</td>\n",
       "      <td>\\N</td>\n",
       "      <td>\\N</td>\n",
       "      <td>\\N</td>\n",
       "      <td>\\N</td>\n",
       "      <td>\\N</td>\n",
       "      <td>\\N</td>\n",
       "      <td>\\N</td>\n",
       "      <td>\\N</td>\n",
       "      <td>\\N</td>\n",
       "      <td>\\N</td>\n",
       "    </tr>\n",
       "    <tr>\n",
       "      <th>4</th>\n",
       "      <td>5</td>\n",
       "      <td>2009</td>\n",
       "      <td>5</td>\n",
       "      <td>4</td>\n",
       "      <td>Spanish Grand Prix</td>\n",
       "      <td>2009-05-10</td>\n",
       "      <td>12:00:00</td>\n",
       "      <td>http://en.wikipedia.org/wiki/2009_Spanish_Gran...</td>\n",
       "      <td>\\N</td>\n",
       "      <td>\\N</td>\n",
       "      <td>\\N</td>\n",
       "      <td>\\N</td>\n",
       "      <td>\\N</td>\n",
       "      <td>\\N</td>\n",
       "      <td>\\N</td>\n",
       "      <td>\\N</td>\n",
       "      <td>\\N</td>\n",
       "      <td>\\N</td>\n",
       "    </tr>\n",
       "  </tbody>\n",
       "</table>\n",
       "</div>"
      ],
      "text/plain": [
       "   raceId  year  round  circuitId  ... quali_date quali_time sprint_date sprint_time\n",
       "0       1  2009      1          1  ...         \\N         \\N          \\N          \\N\n",
       "1       2  2009      2          2  ...         \\N         \\N          \\N          \\N\n",
       "2       3  2009      3         17  ...         \\N         \\N          \\N          \\N\n",
       "3       4  2009      4          3  ...         \\N         \\N          \\N          \\N\n",
       "4       5  2009      5          4  ...         \\N         \\N          \\N          \\N\n",
       "\n",
       "[5 rows x 18 columns]"
      ]
     },
     "execution_count": 567,
     "metadata": {},
     "output_type": "execute_result"
    }
   ],
   "source": [
    "df_races_pd.info()\n",
    "df_races_pd.head()"
   ]
  },
  {
   "cell_type": "code",
   "execution_count": 0,
   "metadata": {
    "application/vnd.databricks.v1+cell": {
     "cellMetadata": {
      "byteLimit": 2048000,
      "rowLimit": 10000
     },
     "inputWidgets": {},
     "nuid": "91e26fd6-2edd-412e-b097-75e84885d283",
     "showTitle": false,
     "tableResultSettingsMap": {},
     "title": ""
    }
   },
   "outputs": [
    {
     "output_type": "execute_result",
     "data": {
      "text/plain": [
       "raceId         0\n",
       "year           0\n",
       "round          0\n",
       "circuitId      0\n",
       "name           0\n",
       "date           0\n",
       "time           0\n",
       "url            0\n",
       "fp1_date       0\n",
       "fp1_time       0\n",
       "fp2_date       0\n",
       "fp2_time       0\n",
       "fp3_date       0\n",
       "fp3_time       0\n",
       "quali_date     0\n",
       "quali_time     0\n",
       "sprint_date    0\n",
       "sprint_time    0\n",
       "dtype: int64"
      ]
     },
     "execution_count": 568,
     "metadata": {},
     "output_type": "execute_result"
    }
   ],
   "source": [
    "df_races_pd.isnull().sum()"
   ]
  },
  {
   "cell_type": "markdown",
   "metadata": {
    "application/vnd.databricks.v1+cell": {
     "cellMetadata": {
      "byteLimit": 2048000,
      "rowLimit": 10000
     },
     "inputWidgets": {},
     "nuid": "05becb3a-c401-4124-a40c-7c17b3119e3d",
     "showTitle": false,
     "tableResultSettingsMap": {},
     "title": ""
    }
   },
   "source": [
    "##### 3. Prepara los datos. Antes de analizar los tiempos de vuelta, necesitarás unir los tiempos por vuelta con circuitos y pilotos."
   ]
  },
  {
   "cell_type": "code",
   "execution_count": 0,
   "metadata": {
    "application/vnd.databricks.v1+cell": {
     "cellMetadata": {
      "byteLimit": 2048000,
      "rowLimit": 10000
     },
     "inputWidgets": {},
     "nuid": "3f58bf88-c80b-429c-b59c-e545281df97b",
     "showTitle": false,
     "tableResultSettingsMap": {},
     "title": ""
    }
   },
   "outputs": [],
   "source": [
    "df_fix = df_laps.join(df_races, on=\"raceId\", how=\"inner\")\n",
    "\n",
    "df_fix = df_fix.join(df_drivers, on=\"driverId\", how=\"inner\")\n",
    "\n",
    "df_fix = df_fix.join(df_circuits, on=\"circuitId\", how=\"inner\")\n",
    "\n",
    "df_fix_pd = df_fix.toPandas()"
   ]
  },
  {
   "cell_type": "code",
   "execution_count": 0,
   "metadata": {
    "application/vnd.databricks.v1+cell": {
     "cellMetadata": {
      "byteLimit": 2048000,
      "rowLimit": 10000
     },
     "inputWidgets": {},
     "nuid": "ba24708e-62f2-4009-bd1c-01fced739058",
     "showTitle": false,
     "tableResultSettingsMap": {},
     "title": ""
    }
   },
   "outputs": [
    {
     "output_type": "execute_result",
     "data": {
      "text/html": [
       "<div>\n",
       "<style scoped>\n",
       "    .dataframe tbody tr th:only-of-type {\n",
       "        vertical-align: middle;\n",
       "    }\n",
       "\n",
       "    .dataframe tbody tr th {\n",
       "        vertical-align: top;\n",
       "    }\n",
       "\n",
       "    .dataframe thead th {\n",
       "        text-align: right;\n",
       "    }\n",
       "</style>\n",
       "<table border=\"1\" class=\"dataframe\">\n",
       "  <thead>\n",
       "    <tr style=\"text-align: right;\">\n",
       "      <th></th>\n",
       "      <th>circuitId</th>\n",
       "      <th>driverId</th>\n",
       "      <th>raceId</th>\n",
       "      <th>lap</th>\n",
       "      <th>position</th>\n",
       "      <th>time</th>\n",
       "      <th>milliseconds</th>\n",
       "      <th>year</th>\n",
       "      <th>round</th>\n",
       "      <th>name</th>\n",
       "      <th>date</th>\n",
       "      <th>time</th>\n",
       "      <th>url</th>\n",
       "      <th>fp1_date</th>\n",
       "      <th>fp1_time</th>\n",
       "      <th>fp2_date</th>\n",
       "      <th>fp2_time</th>\n",
       "      <th>fp3_date</th>\n",
       "      <th>fp3_time</th>\n",
       "      <th>quali_date</th>\n",
       "      <th>quali_time</th>\n",
       "      <th>sprint_date</th>\n",
       "      <th>sprint_time</th>\n",
       "      <th>driverRef</th>\n",
       "      <th>number</th>\n",
       "      <th>code</th>\n",
       "      <th>forename</th>\n",
       "      <th>surname</th>\n",
       "      <th>dob</th>\n",
       "      <th>nationality</th>\n",
       "      <th>url</th>\n",
       "      <th>circuitRef</th>\n",
       "      <th>name</th>\n",
       "      <th>location</th>\n",
       "      <th>country</th>\n",
       "      <th>lat</th>\n",
       "      <th>lng</th>\n",
       "      <th>alt</th>\n",
       "      <th>url</th>\n",
       "    </tr>\n",
       "  </thead>\n",
       "  <tbody>\n",
       "    <tr>\n",
       "      <th>0</th>\n",
       "      <td>1</td>\n",
       "      <td>20</td>\n",
       "      <td>841</td>\n",
       "      <td>1</td>\n",
       "      <td>1</td>\n",
       "      <td>1:38.109</td>\n",
       "      <td>98109</td>\n",
       "      <td>2011</td>\n",
       "      <td>1</td>\n",
       "      <td>Australian Grand Prix</td>\n",
       "      <td>2011-03-27</td>\n",
       "      <td>06:00:00</td>\n",
       "      <td>http://en.wikipedia.org/wiki/2011_Australian_G...</td>\n",
       "      <td>\\N</td>\n",
       "      <td>\\N</td>\n",
       "      <td>\\N</td>\n",
       "      <td>\\N</td>\n",
       "      <td>\\N</td>\n",
       "      <td>\\N</td>\n",
       "      <td>\\N</td>\n",
       "      <td>\\N</td>\n",
       "      <td>\\N</td>\n",
       "      <td>\\N</td>\n",
       "      <td>vettel</td>\n",
       "      <td>5</td>\n",
       "      <td>VET</td>\n",
       "      <td>Sebastian</td>\n",
       "      <td>Vettel</td>\n",
       "      <td>1987-07-03</td>\n",
       "      <td>German</td>\n",
       "      <td>http://en.wikipedia.org/wiki/Sebastian_Vettel</td>\n",
       "      <td>albert_park</td>\n",
       "      <td>Albert Park Grand Prix Circuit</td>\n",
       "      <td>Melbourne</td>\n",
       "      <td>Australia</td>\n",
       "      <td>-37.8497</td>\n",
       "      <td>144.968</td>\n",
       "      <td>10</td>\n",
       "      <td>http://en.wikipedia.org/wiki/Melbourne_Grand_P...</td>\n",
       "    </tr>\n",
       "    <tr>\n",
       "      <th>1</th>\n",
       "      <td>1</td>\n",
       "      <td>20</td>\n",
       "      <td>841</td>\n",
       "      <td>2</td>\n",
       "      <td>1</td>\n",
       "      <td>1:33.006</td>\n",
       "      <td>93006</td>\n",
       "      <td>2011</td>\n",
       "      <td>1</td>\n",
       "      <td>Australian Grand Prix</td>\n",
       "      <td>2011-03-27</td>\n",
       "      <td>06:00:00</td>\n",
       "      <td>http://en.wikipedia.org/wiki/2011_Australian_G...</td>\n",
       "      <td>\\N</td>\n",
       "      <td>\\N</td>\n",
       "      <td>\\N</td>\n",
       "      <td>\\N</td>\n",
       "      <td>\\N</td>\n",
       "      <td>\\N</td>\n",
       "      <td>\\N</td>\n",
       "      <td>\\N</td>\n",
       "      <td>\\N</td>\n",
       "      <td>\\N</td>\n",
       "      <td>vettel</td>\n",
       "      <td>5</td>\n",
       "      <td>VET</td>\n",
       "      <td>Sebastian</td>\n",
       "      <td>Vettel</td>\n",
       "      <td>1987-07-03</td>\n",
       "      <td>German</td>\n",
       "      <td>http://en.wikipedia.org/wiki/Sebastian_Vettel</td>\n",
       "      <td>albert_park</td>\n",
       "      <td>Albert Park Grand Prix Circuit</td>\n",
       "      <td>Melbourne</td>\n",
       "      <td>Australia</td>\n",
       "      <td>-37.8497</td>\n",
       "      <td>144.968</td>\n",
       "      <td>10</td>\n",
       "      <td>http://en.wikipedia.org/wiki/Melbourne_Grand_P...</td>\n",
       "    </tr>\n",
       "    <tr>\n",
       "      <th>2</th>\n",
       "      <td>1</td>\n",
       "      <td>20</td>\n",
       "      <td>841</td>\n",
       "      <td>3</td>\n",
       "      <td>1</td>\n",
       "      <td>1:32.713</td>\n",
       "      <td>92713</td>\n",
       "      <td>2011</td>\n",
       "      <td>1</td>\n",
       "      <td>Australian Grand Prix</td>\n",
       "      <td>2011-03-27</td>\n",
       "      <td>06:00:00</td>\n",
       "      <td>http://en.wikipedia.org/wiki/2011_Australian_G...</td>\n",
       "      <td>\\N</td>\n",
       "      <td>\\N</td>\n",
       "      <td>\\N</td>\n",
       "      <td>\\N</td>\n",
       "      <td>\\N</td>\n",
       "      <td>\\N</td>\n",
       "      <td>\\N</td>\n",
       "      <td>\\N</td>\n",
       "      <td>\\N</td>\n",
       "      <td>\\N</td>\n",
       "      <td>vettel</td>\n",
       "      <td>5</td>\n",
       "      <td>VET</td>\n",
       "      <td>Sebastian</td>\n",
       "      <td>Vettel</td>\n",
       "      <td>1987-07-03</td>\n",
       "      <td>German</td>\n",
       "      <td>http://en.wikipedia.org/wiki/Sebastian_Vettel</td>\n",
       "      <td>albert_park</td>\n",
       "      <td>Albert Park Grand Prix Circuit</td>\n",
       "      <td>Melbourne</td>\n",
       "      <td>Australia</td>\n",
       "      <td>-37.8497</td>\n",
       "      <td>144.968</td>\n",
       "      <td>10</td>\n",
       "      <td>http://en.wikipedia.org/wiki/Melbourne_Grand_P...</td>\n",
       "    </tr>\n",
       "    <tr>\n",
       "      <th>3</th>\n",
       "      <td>1</td>\n",
       "      <td>20</td>\n",
       "      <td>841</td>\n",
       "      <td>4</td>\n",
       "      <td>1</td>\n",
       "      <td>1:32.803</td>\n",
       "      <td>92803</td>\n",
       "      <td>2011</td>\n",
       "      <td>1</td>\n",
       "      <td>Australian Grand Prix</td>\n",
       "      <td>2011-03-27</td>\n",
       "      <td>06:00:00</td>\n",
       "      <td>http://en.wikipedia.org/wiki/2011_Australian_G...</td>\n",
       "      <td>\\N</td>\n",
       "      <td>\\N</td>\n",
       "      <td>\\N</td>\n",
       "      <td>\\N</td>\n",
       "      <td>\\N</td>\n",
       "      <td>\\N</td>\n",
       "      <td>\\N</td>\n",
       "      <td>\\N</td>\n",
       "      <td>\\N</td>\n",
       "      <td>\\N</td>\n",
       "      <td>vettel</td>\n",
       "      <td>5</td>\n",
       "      <td>VET</td>\n",
       "      <td>Sebastian</td>\n",
       "      <td>Vettel</td>\n",
       "      <td>1987-07-03</td>\n",
       "      <td>German</td>\n",
       "      <td>http://en.wikipedia.org/wiki/Sebastian_Vettel</td>\n",
       "      <td>albert_park</td>\n",
       "      <td>Albert Park Grand Prix Circuit</td>\n",
       "      <td>Melbourne</td>\n",
       "      <td>Australia</td>\n",
       "      <td>-37.8497</td>\n",
       "      <td>144.968</td>\n",
       "      <td>10</td>\n",
       "      <td>http://en.wikipedia.org/wiki/Melbourne_Grand_P...</td>\n",
       "    </tr>\n",
       "    <tr>\n",
       "      <th>4</th>\n",
       "      <td>1</td>\n",
       "      <td>20</td>\n",
       "      <td>841</td>\n",
       "      <td>5</td>\n",
       "      <td>1</td>\n",
       "      <td>1:32.342</td>\n",
       "      <td>92342</td>\n",
       "      <td>2011</td>\n",
       "      <td>1</td>\n",
       "      <td>Australian Grand Prix</td>\n",
       "      <td>2011-03-27</td>\n",
       "      <td>06:00:00</td>\n",
       "      <td>http://en.wikipedia.org/wiki/2011_Australian_G...</td>\n",
       "      <td>\\N</td>\n",
       "      <td>\\N</td>\n",
       "      <td>\\N</td>\n",
       "      <td>\\N</td>\n",
       "      <td>\\N</td>\n",
       "      <td>\\N</td>\n",
       "      <td>\\N</td>\n",
       "      <td>\\N</td>\n",
       "      <td>\\N</td>\n",
       "      <td>\\N</td>\n",
       "      <td>vettel</td>\n",
       "      <td>5</td>\n",
       "      <td>VET</td>\n",
       "      <td>Sebastian</td>\n",
       "      <td>Vettel</td>\n",
       "      <td>1987-07-03</td>\n",
       "      <td>German</td>\n",
       "      <td>http://en.wikipedia.org/wiki/Sebastian_Vettel</td>\n",
       "      <td>albert_park</td>\n",
       "      <td>Albert Park Grand Prix Circuit</td>\n",
       "      <td>Melbourne</td>\n",
       "      <td>Australia</td>\n",
       "      <td>-37.8497</td>\n",
       "      <td>144.968</td>\n",
       "      <td>10</td>\n",
       "      <td>http://en.wikipedia.org/wiki/Melbourne_Grand_P...</td>\n",
       "    </tr>\n",
       "  </tbody>\n",
       "</table>\n",
       "</div>"
      ],
      "text/plain": [
       "   circuitId  driverId  ...  alt                                                url\n",
       "0          1        20  ...   10  http://en.wikipedia.org/wiki/Melbourne_Grand_P...\n",
       "1          1        20  ...   10  http://en.wikipedia.org/wiki/Melbourne_Grand_P...\n",
       "2          1        20  ...   10  http://en.wikipedia.org/wiki/Melbourne_Grand_P...\n",
       "3          1        20  ...   10  http://en.wikipedia.org/wiki/Melbourne_Grand_P...\n",
       "4          1        20  ...   10  http://en.wikipedia.org/wiki/Melbourne_Grand_P...\n",
       "\n",
       "[5 rows x 39 columns]"
      ]
     },
     "execution_count": 570,
     "metadata": {},
     "output_type": "execute_result"
    }
   ],
   "source": [
    "df_fix_pd.head()"
   ]
  },
  {
   "cell_type": "code",
   "execution_count": 0,
   "metadata": {
    "application/vnd.databricks.v1+cell": {
     "cellMetadata": {
      "byteLimit": 2048000,
      "rowLimit": 10000
     },
     "inputWidgets": {},
     "nuid": "0d47247e-1d9c-4cae-ac3b-c35835dee81e",
     "showTitle": false,
     "tableResultSettingsMap": {},
     "title": ""
    }
   },
   "outputs": [],
   "source": [
    "import pandas as pd\n",
    "#pd.set_option('display.max_rows', None)  # Muestra todas las filas\n",
    "#pd.set_option('display.max_columns', None)  # Muestra todas las columnas\n",
    "#pd.set_option('display.width', None)  # Ajusta el ancho de la pantalla\n",
    "pd.reset_option('display.max_rows')\n",
    "pd.reset_option('display.max_columns')\n",
    "pd.reset_option('display.width')"
   ]
  },
  {
   "cell_type": "markdown",
   "metadata": {
    "application/vnd.databricks.v1+cell": {
     "cellMetadata": {
      "byteLimit": 2048000,
      "rowLimit": 10000
     },
     "inputWidgets": {},
     "nuid": "11e7cb55-3828-47bd-a8f3-8a09ceb60d55",
     "showTitle": false,
     "tableResultSettingsMap": {},
     "title": ""
    }
   },
   "source": [
    "##### 4. Identifica el piloto con la vuelta más rápida en cada circuito."
   ]
  },
  {
   "cell_type": "code",
   "execution_count": 0,
   "metadata": {
    "application/vnd.databricks.v1+cell": {
     "cellMetadata": {
      "byteLimit": 2048000,
      "rowLimit": 10000
     },
     "inputWidgets": {},
     "nuid": "61ab206d-0371-4d31-b68f-4a712f249adb",
     "showTitle": false,
     "tableResultSettingsMap": {},
     "title": ""
    }
   },
   "outputs": [
    {
     "output_type": "stream",
     "name": "stdout",
     "output_type": "stream",
     "text": [
      "              surname                       name  ...      time      time\n260720    Barrichello         Italian Grand Prix  ...  1:21.046        \\N\n254468    Barrichello   United States Grand Prix  ...  1:10.399        \\N\n130730         Berger       Argentine Grand Prix  ...  1:27.981        \\N\n446758         Bottas       Brazilian Grand Prix  ...  1:10.540  17:10:00\n510280         Bottas     Mexico City Grand Prix  ...  1:17.774  19:00:00\n456239         Bottas        Canadian Grand Prix  ...  1:13.078  18:10:00\n223208      Coulthard          French Grand Prix  ...  1:15.045        \\N\n268741     Fisichella         Spanish Grand Prix  ...  1:15.641  14:00:00\n144242       Frentzen        European Grand Prix  ...  1:23.135        \\N\n353902          Glock        European Grand Prix  ...  1:38.683  12:00:00\n485285       Hamilton  Emilia Romagna Grand Prix  ...  1:15.484  12:10:00\n503699       Hamilton           Dutch Grand Prix  ...  1:11.097  13:00:00\n465891       Hamilton         Russian Grand Prix  ...  1:35.761  11:10:00\n495953       Hamilton          Monaco Grand Prix  ...  1:12.909  13:00:00\n484015       Hamilton      Portuguese Grand Prix  ...  1:18.750  12:10:00\n481197       Hamilton          Tuscan Grand Prix  ...  1:18.833  13:10:00\n512799       Hamilton   Saudi Arabian Grand Prix  ...  1:30.734  17:30:00\n466861       Hamilton        Japanese Grand Prix  ...  1:30.983  05:10:00\n452514        Leclerc      Azerbaijan Grand Prix  ...  1:43.009  12:10:00\n469229        Leclerc   United States Grand Prix  ...  1:36.169  19:10:00\n564710        Leclerc      Australian Grand Prix  ...  1:19.813  04:00:00\n588452      Magnussen       Abu Dhabi Grand Prix  ...  1:25.637  13:00:00\n339670          Massa        Japanese Grand Prix  ...  1:18.426  04:30:00\n586435         Norris       Las Vegas Grand Prix  ...  1:34.876  06:00:00\n587221         Norris           Qatar Grand Prix  ...  1:22.384  17:00:00\n278534  Pablo Montoya         Turkish Grand Prix  ...  1:24.770  15:00:00\n203874  Pablo Montoya        European Grand Prix  ...  1:18.354        \\N\n577475          Pérez         Belgian Grand Prix  ...  1:44.701  13:00:00\n582521      Ricciardo       Singapore Grand Prix  ...  1:34.486  12:00:00\n488409        Russell          Sakhir Grand Prix  ...  0:55.404  17:10:00\n257966      Räikkönen          German Grand Prix  ...  1:13.780        \\N\n473853          Sainz         Styrian Grand Prix  ...  1:05.619  13:10:00\n225217     Schumacher       Hungarian Grand Prix  ...  1:16.207        \\N\n256556     Schumacher         British Grand Prix  ...  1:18.739        \\N\n261585     Schumacher         Chinese Grand Prix  ...  1:32.238        \\N\n542585     Verstappen           Miami Grand Prix  ...  1:29.708  19:30:00\n457433         Vettel          French Grand Prix  ...  1:32.740  13:10:00\n18924          Vettel          Korean Grand Prix  ...  1:39.605  06:00:00\n420521         Vettel       Malaysian Grand Prix  ...  1:34.080  07:00:00\n20134          Vettel          Indian Grand Prix  ...  1:27.249  09:30:00\n126511     Villeneuve      Portuguese Grand Prix  ...  1:22.873        \\N\n\n[41 rows x 5 columns]\n"
     ]
    }
   ],
   "source": [
    "fastest_laps = df_fix_pd.loc[df_fix_pd.groupby('circuitId')['milliseconds'].idxmin(), ['surname', 'name', 'time']]\n",
    "\n",
    "fastest_laps = fastest_laps.sort_values(by='surname')\n",
    "print(fastest_laps)"
   ]
  },
  {
   "cell_type": "markdown",
   "metadata": {
    "application/vnd.databricks.v1+cell": {
     "cellMetadata": {
      "byteLimit": 2048000,
      "rowLimit": 10000
     },
     "inputWidgets": {},
     "nuid": "9f28670d-22f6-4cdd-8d9d-1d8e8ac1c7eb",
     "showTitle": false,
     "tableResultSettingsMap": {},
     "title": ""
    }
   },
   "source": [
    "##### 5. Identificar Mejores Rendimientos de cada circuito (Mejores medias de tiempos por vuelta)"
   ]
  },
  {
   "cell_type": "code",
   "execution_count": 0,
   "metadata": {
    "application/vnd.databricks.v1+cell": {
     "cellMetadata": {
      "byteLimit": 2048000,
      "rowLimit": 10000
     },
     "inputWidgets": {},
     "nuid": "f642c0ff-da58-498c-88c2-5beef6d900bf",
     "showTitle": false,
     "tableResultSettingsMap": {},
     "title": ""
    }
   },
   "outputs": [
    {
     "output_type": "stream",
     "name": "stdout",
     "output_type": "stream",
     "text": [
      "     circuitId    surname  ...                                  name   milliseconds\n0            1    Leclerc  ...        Albert Park Grand Prix Circuit   89354.974138\n20           1    Leclerc  ...          Circuit de Spa-Francorchamps   89354.974138\n21           1    Leclerc  ...                         Red Bull Ring   89354.974138\n22           1    Leclerc  ...                   Silverstone Circuit   89354.974138\n23           1    Leclerc  ...  Autodromo Internazionale del Mugello   89354.974138\n..         ...        ...  ...                                   ...            ...\n971         80  Colapinto  ...             Marina Bay Street Circuit  100022.820000\n972         80  Colapinto  ...               Circuit of the Americas  100022.820000\n973         80  Colapinto  ...          Autódromo Hermanos Rodríguez  100022.820000\n974         80  Colapinto  ...            Autódromo José Carlos Pace  100022.820000\n976         80  Colapinto  ...                    Yas Marina Circuit  100022.820000\n\n[977 rows x 5 columns]\n"
     ]
    }
   ],
   "source": [
    "average_lap_times = df_fix_pd.groupby(['circuitId', 'driverId'])['milliseconds'].mean().reset_index()\n",
    "\n",
    "best_performance = average_lap_times.loc[average_lap_times.groupby('circuitId')['milliseconds'].idxmin()]\n",
    "# Unir con df_fix_pd para obtener el nombre del piloto\n",
    "best_performance = best_performance.merge(df_fix_pd[['driverId', 'surname', 'name']].drop_duplicates(), on='driverId', how='left')\n",
    "best_performance = best_performance.sort_values(by='circuitId')\n",
    "\n",
    "print(best_performance[['circuitId', 'surname', 'name', 'milliseconds']])"
   ]
  },
  {
   "cell_type": "markdown",
   "metadata": {
    "application/vnd.databricks.v1+cell": {
     "cellMetadata": {
      "byteLimit": 2048000,
      "rowLimit": 10000
     },
     "inputWidgets": {},
     "nuid": "80a4084f-2e59-4c74-bf99-0546c816922e",
     "showTitle": false,
     "tableResultSettingsMap": {},
     "title": ""
    }
   },
   "source": [
    "# Ejercicio 2: Análisis del Impacto de las Paradas en Boxes en los Resultados de las Carreras"
   ]
  },
  {
   "cell_type": "markdown",
   "metadata": {
    "application/vnd.databricks.v1+cell": {
     "cellMetadata": {
      "byteLimit": 2048000,
      "rowLimit": 10000
     },
     "inputWidgets": {},
     "nuid": "842e0512-62bf-45c2-ba3b-466632419758",
     "showTitle": false,
     "tableResultSettingsMap": {},
     "title": ""
    }
   },
   "source": [
    "Objetivo: Investigar cómo las paradas en boxes afectan el rendimiento de los pilotos en las carreras y determinar si ciertas estrategias de paradas en boxes están correlacionadas con mejores resultados."
   ]
  },
  {
   "cell_type": "markdown",
   "metadata": {
    "application/vnd.databricks.v1+cell": {
     "cellMetadata": {
      "byteLimit": 2048000,
      "rowLimit": 10000
     },
     "inputWidgets": {},
     "nuid": "8f627dc6-ec6b-4555-bbce-ffab7ce8f9f4",
     "showTitle": false,
     "tableResultSettingsMap": {},
     "title": ""
    }
   },
   "source": [
    "##### 1. Carga los datos de tiempos de pit stop y resultados."
   ]
  },
  {
   "cell_type": "code",
   "execution_count": 0,
   "metadata": {
    "application/vnd.databricks.v1+cell": {
     "cellMetadata": {
      "byteLimit": 2048000,
      "rowLimit": 10000
     },
     "inputWidgets": {},
     "nuid": "1a6c08d4-c06d-4c5b-929e-65fb63d9b024",
     "showTitle": false,
     "tableResultSettingsMap": {},
     "title": ""
    }
   },
   "outputs": [],
   "source": [
    "df_pit_stop = spark.read.csv('dbfs:/FileStore/tables/pit_stops.csv', header=True, inferSchema=True)\n",
    "df_results = spark.read.csv('dbfs:/FileStore/tables/results.csv', header=True, inferSchema=True)"
   ]
  },
  {
   "cell_type": "code",
   "execution_count": 0,
   "metadata": {
    "application/vnd.databricks.v1+cell": {
     "cellMetadata": {
      "byteLimit": 2048000,
      "rowLimit": 10000
     },
     "inputWidgets": {},
     "nuid": "cb05c192-a8af-451b-ad98-d4eb328233cd",
     "showTitle": false,
     "tableResultSettingsMap": {},
     "title": ""
    }
   },
   "outputs": [],
   "source": [
    "df_pit_stop_pd = df_pit_stop.toPandas()\n",
    "df_results_pd = df_result.toPandas()"
   ]
  },
  {
   "cell_type": "markdown",
   "metadata": {
    "application/vnd.databricks.v1+cell": {
     "cellMetadata": {
      "byteLimit": 2048000,
      "rowLimit": 10000
     },
     "inputWidgets": {},
     "nuid": "e38730a7-43a6-4517-ab01-55501b301062",
     "showTitle": false,
     "tableResultSettingsMap": {},
     "title": ""
    }
   },
   "source": [
    "##### 2. Explora los DataFrames para entender su estructura y los datos que contienen"
   ]
  },
  {
   "cell_type": "code",
   "execution_count": 0,
   "metadata": {
    "application/vnd.databricks.v1+cell": {
     "cellMetadata": {
      "byteLimit": 2048000,
      "rowLimit": 10000
     },
     "inputWidgets": {},
     "nuid": "77724cfc-3d70-4321-8b63-e30df32ba125",
     "showTitle": false,
     "tableResultSettingsMap": {},
     "title": ""
    }
   },
   "outputs": [
    {
     "output_type": "stream",
     "name": "stdout",
     "output_type": "stream",
     "text": [
      "<class 'pandas.core.frame.DataFrame'>\nRangeIndex: 11371 entries, 0 to 11370\nData columns (total 7 columns):\n #   Column        Non-Null Count  Dtype         \n---  ------        --------------  -----         \n 0   raceId        11371 non-null  int32         \n 1   driverId      11371 non-null  int32         \n 2   stop          11371 non-null  int32         \n 3   lap           11371 non-null  int32         \n 4   time          11371 non-null  datetime64[ns]\n 5   duration      11371 non-null  object        \n 6   milliseconds  11371 non-null  int32         \ndtypes: datetime64[ns](1), int32(5), object(1)\nmemory usage: 399.9+ KB\n"
     ]
    },
    {
     "output_type": "execute_result",
     "data": {
      "text/html": [
       "<div>\n",
       "<style scoped>\n",
       "    .dataframe tbody tr th:only-of-type {\n",
       "        vertical-align: middle;\n",
       "    }\n",
       "\n",
       "    .dataframe tbody tr th {\n",
       "        vertical-align: top;\n",
       "    }\n",
       "\n",
       "    .dataframe thead th {\n",
       "        text-align: right;\n",
       "    }\n",
       "</style>\n",
       "<table border=\"1\" class=\"dataframe\">\n",
       "  <thead>\n",
       "    <tr style=\"text-align: right;\">\n",
       "      <th></th>\n",
       "      <th>raceId</th>\n",
       "      <th>driverId</th>\n",
       "      <th>stop</th>\n",
       "      <th>lap</th>\n",
       "      <th>time</th>\n",
       "      <th>duration</th>\n",
       "      <th>milliseconds</th>\n",
       "    </tr>\n",
       "  </thead>\n",
       "  <tbody>\n",
       "    <tr>\n",
       "      <th>0</th>\n",
       "      <td>841</td>\n",
       "      <td>153</td>\n",
       "      <td>1</td>\n",
       "      <td>1</td>\n",
       "      <td>2025-02-24 17:05:23</td>\n",
       "      <td>26.898</td>\n",
       "      <td>26898</td>\n",
       "    </tr>\n",
       "    <tr>\n",
       "      <th>1</th>\n",
       "      <td>841</td>\n",
       "      <td>30</td>\n",
       "      <td>1</td>\n",
       "      <td>1</td>\n",
       "      <td>2025-02-24 17:05:52</td>\n",
       "      <td>25.021</td>\n",
       "      <td>25021</td>\n",
       "    </tr>\n",
       "    <tr>\n",
       "      <th>2</th>\n",
       "      <td>841</td>\n",
       "      <td>17</td>\n",
       "      <td>1</td>\n",
       "      <td>11</td>\n",
       "      <td>2025-02-24 17:20:48</td>\n",
       "      <td>23.426</td>\n",
       "      <td>23426</td>\n",
       "    </tr>\n",
       "    <tr>\n",
       "      <th>3</th>\n",
       "      <td>841</td>\n",
       "      <td>4</td>\n",
       "      <td>1</td>\n",
       "      <td>12</td>\n",
       "      <td>2025-02-24 17:22:34</td>\n",
       "      <td>23.251</td>\n",
       "      <td>23251</td>\n",
       "    </tr>\n",
       "    <tr>\n",
       "      <th>4</th>\n",
       "      <td>841</td>\n",
       "      <td>13</td>\n",
       "      <td>1</td>\n",
       "      <td>13</td>\n",
       "      <td>2025-02-24 17:24:10</td>\n",
       "      <td>23.842</td>\n",
       "      <td>23842</td>\n",
       "    </tr>\n",
       "  </tbody>\n",
       "</table>\n",
       "</div>"
      ],
      "text/plain": [
       "   raceId  driverId  stop  lap                time duration  milliseconds\n",
       "0     841       153     1    1 2025-02-24 17:05:23   26.898         26898\n",
       "1     841        30     1    1 2025-02-24 17:05:52   25.021         25021\n",
       "2     841        17     1   11 2025-02-24 17:20:48   23.426         23426\n",
       "3     841         4     1   12 2025-02-24 17:22:34   23.251         23251\n",
       "4     841        13     1   13 2025-02-24 17:24:10   23.842         23842"
      ]
     },
     "execution_count": 576,
     "metadata": {},
     "output_type": "execute_result"
    }
   ],
   "source": [
    "df_pit_stop_pd.info()\n",
    "df_pit_stop_pd.head()"
   ]
  },
  {
   "cell_type": "code",
   "execution_count": 0,
   "metadata": {
    "application/vnd.databricks.v1+cell": {
     "cellMetadata": {
      "byteLimit": 2048000,
      "rowLimit": 10000
     },
     "inputWidgets": {},
     "nuid": "14efa1b5-8ea8-43b5-9fe6-6482bb6a7be3",
     "showTitle": false,
     "tableResultSettingsMap": {},
     "title": ""
    }
   },
   "outputs": [
    {
     "output_type": "stream",
     "name": "stdout",
     "output_type": "stream",
     "text": [
      "<class 'pandas.core.frame.DataFrame'>\nRangeIndex: 26759 entries, 0 to 26758\nData columns (total 18 columns):\n #   Column           Non-Null Count  Dtype  \n---  ------           --------------  -----  \n 0   resultId         26759 non-null  int32  \n 1   raceId           26759 non-null  int32  \n 2   driverId         26759 non-null  int32  \n 3   constructorId    26759 non-null  int32  \n 4   number           26759 non-null  object \n 5   grid             26759 non-null  int32  \n 6   position         26759 non-null  object \n 7   positionText     26759 non-null  object \n 8   positionOrder    26759 non-null  int32  \n 9   points           26759 non-null  float64\n 10  laps             26759 non-null  int32  \n 11  time             26759 non-null  object \n 12  milliseconds     26759 non-null  object \n 13  fastestLap       26759 non-null  object \n 14  rank             26759 non-null  object \n 15  fastestLapTime   26759 non-null  object \n 16  fastestLapSpeed  26759 non-null  object \n 17  statusId         26759 non-null  int32  \ndtypes: float64(1), int32(8), object(9)\nmemory usage: 2.9+ MB\n"
     ]
    },
    {
     "output_type": "execute_result",
     "data": {
      "text/html": [
       "<div>\n",
       "<style scoped>\n",
       "    .dataframe tbody tr th:only-of-type {\n",
       "        vertical-align: middle;\n",
       "    }\n",
       "\n",
       "    .dataframe tbody tr th {\n",
       "        vertical-align: top;\n",
       "    }\n",
       "\n",
       "    .dataframe thead th {\n",
       "        text-align: right;\n",
       "    }\n",
       "</style>\n",
       "<table border=\"1\" class=\"dataframe\">\n",
       "  <thead>\n",
       "    <tr style=\"text-align: right;\">\n",
       "      <th></th>\n",
       "      <th>resultId</th>\n",
       "      <th>raceId</th>\n",
       "      <th>driverId</th>\n",
       "      <th>constructorId</th>\n",
       "      <th>number</th>\n",
       "      <th>grid</th>\n",
       "      <th>position</th>\n",
       "      <th>positionText</th>\n",
       "      <th>positionOrder</th>\n",
       "      <th>points</th>\n",
       "      <th>laps</th>\n",
       "      <th>time</th>\n",
       "      <th>milliseconds</th>\n",
       "      <th>fastestLap</th>\n",
       "      <th>rank</th>\n",
       "      <th>fastestLapTime</th>\n",
       "      <th>fastestLapSpeed</th>\n",
       "      <th>statusId</th>\n",
       "    </tr>\n",
       "  </thead>\n",
       "  <tbody>\n",
       "    <tr>\n",
       "      <th>0</th>\n",
       "      <td>1</td>\n",
       "      <td>18</td>\n",
       "      <td>1</td>\n",
       "      <td>1</td>\n",
       "      <td>22</td>\n",
       "      <td>1</td>\n",
       "      <td>1</td>\n",
       "      <td>1</td>\n",
       "      <td>1</td>\n",
       "      <td>10.0</td>\n",
       "      <td>58</td>\n",
       "      <td>1:34:50.616</td>\n",
       "      <td>5690616</td>\n",
       "      <td>39</td>\n",
       "      <td>2</td>\n",
       "      <td>1:27.452</td>\n",
       "      <td>218.300</td>\n",
       "      <td>1</td>\n",
       "    </tr>\n",
       "    <tr>\n",
       "      <th>1</th>\n",
       "      <td>2</td>\n",
       "      <td>18</td>\n",
       "      <td>2</td>\n",
       "      <td>2</td>\n",
       "      <td>3</td>\n",
       "      <td>5</td>\n",
       "      <td>2</td>\n",
       "      <td>2</td>\n",
       "      <td>2</td>\n",
       "      <td>8.0</td>\n",
       "      <td>58</td>\n",
       "      <td>+5.478</td>\n",
       "      <td>5696094</td>\n",
       "      <td>41</td>\n",
       "      <td>3</td>\n",
       "      <td>1:27.739</td>\n",
       "      <td>217.586</td>\n",
       "      <td>1</td>\n",
       "    </tr>\n",
       "    <tr>\n",
       "      <th>2</th>\n",
       "      <td>3</td>\n",
       "      <td>18</td>\n",
       "      <td>3</td>\n",
       "      <td>3</td>\n",
       "      <td>7</td>\n",
       "      <td>7</td>\n",
       "      <td>3</td>\n",
       "      <td>3</td>\n",
       "      <td>3</td>\n",
       "      <td>6.0</td>\n",
       "      <td>58</td>\n",
       "      <td>+8.163</td>\n",
       "      <td>5698779</td>\n",
       "      <td>41</td>\n",
       "      <td>5</td>\n",
       "      <td>1:28.090</td>\n",
       "      <td>216.719</td>\n",
       "      <td>1</td>\n",
       "    </tr>\n",
       "    <tr>\n",
       "      <th>3</th>\n",
       "      <td>4</td>\n",
       "      <td>18</td>\n",
       "      <td>4</td>\n",
       "      <td>4</td>\n",
       "      <td>5</td>\n",
       "      <td>11</td>\n",
       "      <td>4</td>\n",
       "      <td>4</td>\n",
       "      <td>4</td>\n",
       "      <td>5.0</td>\n",
       "      <td>58</td>\n",
       "      <td>+17.181</td>\n",
       "      <td>5707797</td>\n",
       "      <td>58</td>\n",
       "      <td>7</td>\n",
       "      <td>1:28.603</td>\n",
       "      <td>215.464</td>\n",
       "      <td>1</td>\n",
       "    </tr>\n",
       "    <tr>\n",
       "      <th>4</th>\n",
       "      <td>5</td>\n",
       "      <td>18</td>\n",
       "      <td>5</td>\n",
       "      <td>1</td>\n",
       "      <td>23</td>\n",
       "      <td>3</td>\n",
       "      <td>5</td>\n",
       "      <td>5</td>\n",
       "      <td>5</td>\n",
       "      <td>4.0</td>\n",
       "      <td>58</td>\n",
       "      <td>+18.014</td>\n",
       "      <td>5708630</td>\n",
       "      <td>43</td>\n",
       "      <td>1</td>\n",
       "      <td>1:27.418</td>\n",
       "      <td>218.385</td>\n",
       "      <td>1</td>\n",
       "    </tr>\n",
       "  </tbody>\n",
       "</table>\n",
       "</div>"
      ],
      "text/plain": [
       "   resultId  raceId  driverId  ...  fastestLapTime fastestLapSpeed  statusId\n",
       "0         1      18         1  ...        1:27.452         218.300         1\n",
       "1         2      18         2  ...        1:27.739         217.586         1\n",
       "2         3      18         3  ...        1:28.090         216.719         1\n",
       "3         4      18         4  ...        1:28.603         215.464         1\n",
       "4         5      18         5  ...        1:27.418         218.385         1\n",
       "\n",
       "[5 rows x 18 columns]"
      ]
     },
     "execution_count": 577,
     "metadata": {},
     "output_type": "execute_result"
    }
   ],
   "source": [
    "df_results_pd.info()\n",
    "df_results_pd.head()"
   ]
  },
  {
   "cell_type": "markdown",
   "metadata": {
    "application/vnd.databricks.v1+cell": {
     "cellMetadata": {
      "byteLimit": 2048000,
      "rowLimit": 10000
     },
     "inputWidgets": {},
     "nuid": "f9505004-1670-462a-b8fa-629a2892724e",
     "showTitle": false,
     "tableResultSettingsMap": {},
     "title": ""
    }
   },
   "source": [
    "##### 3. Prepara los datos. Deberías unir los resultados con los pit_stop."
   ]
  },
  {
   "cell_type": "code",
   "execution_count": 0,
   "metadata": {
    "application/vnd.databricks.v1+cell": {
     "cellMetadata": {
      "byteLimit": 2048000,
      "rowLimit": 10000
     },
     "inputWidgets": {},
     "nuid": "736a8e4e-307e-4189-b2aa-457752578a89",
     "showTitle": false,
     "tableResultSettingsMap": {},
     "title": ""
    }
   },
   "outputs": [],
   "source": [
    "df_fix_stop_result = df_pit_stop.join(df_result, on=\"raceId\", how=\"inner\")\n",
    "\n",
    "df_fix_stop_result_pd = df_fix_stop_result.toPandas()"
   ]
  },
  {
   "cell_type": "code",
   "execution_count": 0,
   "metadata": {
    "application/vnd.databricks.v1+cell": {
     "cellMetadata": {
      "byteLimit": 2048000,
      "rowLimit": 10000
     },
     "inputWidgets": {},
     "nuid": "dbdc5be0-2d32-405b-bbc9-3819594d1134",
     "showTitle": false,
     "tableResultSettingsMap": {},
     "title": ""
    }
   },
   "outputs": [
    {
     "output_type": "execute_result",
     "data": {
      "text/html": [
       "<div>\n",
       "<style scoped>\n",
       "    .dataframe tbody tr th:only-of-type {\n",
       "        vertical-align: middle;\n",
       "    }\n",
       "\n",
       "    .dataframe tbody tr th {\n",
       "        vertical-align: top;\n",
       "    }\n",
       "\n",
       "    .dataframe thead th {\n",
       "        text-align: right;\n",
       "    }\n",
       "</style>\n",
       "<table border=\"1\" class=\"dataframe\">\n",
       "  <thead>\n",
       "    <tr style=\"text-align: right;\">\n",
       "      <th></th>\n",
       "      <th>raceId</th>\n",
       "      <th>driverId</th>\n",
       "      <th>stop</th>\n",
       "      <th>lap</th>\n",
       "      <th>time</th>\n",
       "      <th>duration</th>\n",
       "      <th>milliseconds</th>\n",
       "      <th>resultId</th>\n",
       "      <th>driverId</th>\n",
       "      <th>constructorId</th>\n",
       "      <th>number</th>\n",
       "      <th>grid</th>\n",
       "      <th>position</th>\n",
       "      <th>positionText</th>\n",
       "      <th>positionOrder</th>\n",
       "      <th>points</th>\n",
       "      <th>laps</th>\n",
       "      <th>time</th>\n",
       "      <th>milliseconds</th>\n",
       "      <th>fastestLap</th>\n",
       "      <th>rank</th>\n",
       "      <th>fastestLapTime</th>\n",
       "      <th>fastestLapSpeed</th>\n",
       "      <th>statusId</th>\n",
       "    </tr>\n",
       "  </thead>\n",
       "  <tbody>\n",
       "    <tr>\n",
       "      <th>0</th>\n",
       "      <td>841</td>\n",
       "      <td>13</td>\n",
       "      <td>3</td>\n",
       "      <td>48</td>\n",
       "      <td>2025-02-24 18:18:54</td>\n",
       "      <td>24.095</td>\n",
       "      <td>24095</td>\n",
       "      <td>20779</td>\n",
       "      <td>20</td>\n",
       "      <td>9</td>\n",
       "      <td>1</td>\n",
       "      <td>1</td>\n",
       "      <td>1</td>\n",
       "      <td>1</td>\n",
       "      <td>1</td>\n",
       "      <td>25.0</td>\n",
       "      <td>58</td>\n",
       "      <td>1:29:30.259</td>\n",
       "      <td>5370259</td>\n",
       "      <td>44</td>\n",
       "      <td>4</td>\n",
       "      <td>1:29.844</td>\n",
       "      <td>212.488</td>\n",
       "      <td>1</td>\n",
       "    </tr>\n",
       "    <tr>\n",
       "      <th>1</th>\n",
       "      <td>841</td>\n",
       "      <td>4</td>\n",
       "      <td>3</td>\n",
       "      <td>42</td>\n",
       "      <td>2025-02-24 18:09:08</td>\n",
       "      <td>24.181</td>\n",
       "      <td>24181</td>\n",
       "      <td>20779</td>\n",
       "      <td>20</td>\n",
       "      <td>9</td>\n",
       "      <td>1</td>\n",
       "      <td>1</td>\n",
       "      <td>1</td>\n",
       "      <td>1</td>\n",
       "      <td>1</td>\n",
       "      <td>25.0</td>\n",
       "      <td>58</td>\n",
       "      <td>1:29:30.259</td>\n",
       "      <td>5370259</td>\n",
       "      <td>44</td>\n",
       "      <td>4</td>\n",
       "      <td>1:29.844</td>\n",
       "      <td>212.488</td>\n",
       "      <td>1</td>\n",
       "    </tr>\n",
       "    <tr>\n",
       "      <th>2</th>\n",
       "      <td>841</td>\n",
       "      <td>22</td>\n",
       "      <td>4</td>\n",
       "      <td>40</td>\n",
       "      <td>2025-02-24 18:08:03</td>\n",
       "      <td>26.309</td>\n",
       "      <td>26309</td>\n",
       "      <td>20779</td>\n",
       "      <td>20</td>\n",
       "      <td>9</td>\n",
       "      <td>1</td>\n",
       "      <td>1</td>\n",
       "      <td>1</td>\n",
       "      <td>1</td>\n",
       "      <td>1</td>\n",
       "      <td>25.0</td>\n",
       "      <td>58</td>\n",
       "      <td>1:29:30.259</td>\n",
       "      <td>5370259</td>\n",
       "      <td>44</td>\n",
       "      <td>4</td>\n",
       "      <td>1:29.844</td>\n",
       "      <td>212.488</td>\n",
       "      <td>1</td>\n",
       "    </tr>\n",
       "    <tr>\n",
       "      <th>3</th>\n",
       "      <td>841</td>\n",
       "      <td>17</td>\n",
       "      <td>3</td>\n",
       "      <td>41</td>\n",
       "      <td>2025-02-24 18:07:37</td>\n",
       "      <td>26.230</td>\n",
       "      <td>26230</td>\n",
       "      <td>20779</td>\n",
       "      <td>20</td>\n",
       "      <td>9</td>\n",
       "      <td>1</td>\n",
       "      <td>1</td>\n",
       "      <td>1</td>\n",
       "      <td>1</td>\n",
       "      <td>1</td>\n",
       "      <td>25.0</td>\n",
       "      <td>58</td>\n",
       "      <td>1:29:30.259</td>\n",
       "      <td>5370259</td>\n",
       "      <td>44</td>\n",
       "      <td>4</td>\n",
       "      <td>1:29.844</td>\n",
       "      <td>212.488</td>\n",
       "      <td>1</td>\n",
       "    </tr>\n",
       "    <tr>\n",
       "      <th>4</th>\n",
       "      <td>841</td>\n",
       "      <td>816</td>\n",
       "      <td>2</td>\n",
       "      <td>38</td>\n",
       "      <td>2025-02-24 18:06:53</td>\n",
       "      <td>26.446</td>\n",
       "      <td>26446</td>\n",
       "      <td>20779</td>\n",
       "      <td>20</td>\n",
       "      <td>9</td>\n",
       "      <td>1</td>\n",
       "      <td>1</td>\n",
       "      <td>1</td>\n",
       "      <td>1</td>\n",
       "      <td>1</td>\n",
       "      <td>25.0</td>\n",
       "      <td>58</td>\n",
       "      <td>1:29:30.259</td>\n",
       "      <td>5370259</td>\n",
       "      <td>44</td>\n",
       "      <td>4</td>\n",
       "      <td>1:29.844</td>\n",
       "      <td>212.488</td>\n",
       "      <td>1</td>\n",
       "    </tr>\n",
       "  </tbody>\n",
       "</table>\n",
       "</div>"
      ],
      "text/plain": [
       "   raceId  driverId  stop  lap  ... rank fastestLapTime  fastestLapSpeed  statusId\n",
       "0     841        13     3   48  ...    4       1:29.844          212.488         1\n",
       "1     841         4     3   42  ...    4       1:29.844          212.488         1\n",
       "2     841        22     4   40  ...    4       1:29.844          212.488         1\n",
       "3     841        17     3   41  ...    4       1:29.844          212.488         1\n",
       "4     841       816     2   38  ...    4       1:29.844          212.488         1\n",
       "\n",
       "[5 rows x 24 columns]"
      ]
     },
     "execution_count": 579,
     "metadata": {},
     "output_type": "execute_result"
    }
   ],
   "source": [
    "df_fix_stop_result_pd.head()"
   ]
  },
  {
   "cell_type": "markdown",
   "metadata": {
    "application/vnd.databricks.v1+cell": {
     "cellMetadata": {
      "byteLimit": 2048000,
      "rowLimit": 10000
     },
     "inputWidgets": {},
     "nuid": "688a9397-83e1-44d8-8cab-40c93e680927",
     "showTitle": false,
     "tableResultSettingsMap": {},
     "title": ""
    }
   },
   "source": [
    "##### 4. Calcular el impacto de los pit stops: Necesitamos obtener datos clave para evaluar el impacto de los pit stops en el rendimiento, como el tiempo total en pit stops por carrera y el número de paradas, y compáralo con la posición final en la carrera"
   ]
  },
  {
   "cell_type": "code",
   "execution_count": 0,
   "metadata": {
    "application/vnd.databricks.v1+cell": {
     "cellMetadata": {
      "byteLimit": 2048000,
      "rowLimit": 10000
     },
     "inputWidgets": {},
     "nuid": "8d078fa9-5483-4b59-8c45-23e0e2403ec6",
     "showTitle": false,
     "tableResultSettingsMap": {},
     "title": ""
    }
   },
   "outputs": [
    {
     "output_type": "stream",
     "name": "stdout",
     "output_type": "stream",
     "text": [
      "+------+--------+--------------+-------------+-------------+\n|raceId|driverId|total_pit_time|num_pit_stops|positionOrder|\n+------+--------+--------------+-------------+-------------+\n|   897|      20|         43573|            2|            1|\n|   912|       1|         24453|            1|            1|\n|   931|       3|         24789|            1|            1|\n|   891|      20|         45569|            2|            1|\n|   862|       3|         41758|            2|            1|\n|  1141|     830|       1409303|            1|            1|\n|   937|       1|         45358|            2|            1|\n|   887|       3|         75319|            3|            1|\n|  1087|     830|         45204|            2|            1|\n|   914|       1|       1184863|            3|            1|\n|  1019|       1|         28905|            1|            1|\n|   952|     830|         44717|            2|            1|\n|   875|      20|         39631|            2|            1|\n|   874|      20|         40854|            2|            1|\n|   964|       3|         45823|            2|            1|\n|   902|       1|         49833|            2|            1|\n|  1022|     844|         22449|            1|            1|\n|  1086|     830|         42579|            2|            1|\n|  1064|     830|         37720|            2|            1|\n|   850|       1|         61881|            3|            1|\n+------+--------+--------------+-------------+-------------+\nonly showing top 20 rows\n\n"
     ]
    }
   ],
   "source": [
    "df_pit_summary = df_pit_stop.groupBy(\"raceId\", \"driverId\") \\\n",
    "    .agg(\n",
    "        F.sum(\"milliseconds\").alias(\"total_pit_time\"),\n",
    "        F.count(\"stop\").alias(\"num_pit_stops\")\n",
    "    )\n",
    "\n",
    "# Obtener posición final de los pilotos en cada carrera\n",
    "df_final_positions = df_results.select(\"raceId\", \"driverId\", \"positionOrder\")\n",
    "\n",
    "df_analysis = df_pit_summary.join(df_final_positions, [\"raceId\", \"driverId\"])\n",
    "df_analysis.orderBy(\"positionOrder\").show()"
   ]
  },
  {
   "cell_type": "markdown",
   "metadata": {
    "application/vnd.databricks.v1+cell": {
     "cellMetadata": {
      "byteLimit": 2048000,
      "rowLimit": 10000
     },
     "inputWidgets": {},
     "nuid": "04d2cd47-8b7e-450d-b44c-02e0a9decb21",
     "showTitle": false,
     "tableResultSettingsMap": {},
     "title": ""
    }
   },
   "source": [
    "##### 5. Identificación de patrones o estrategias que pueden ser exitosas. De los datos que has obtenido, que posibles conclusiones o estrategias obtienes? Hay alguna correlación? Podrías ampliarlas o mejorarlas usando más datos? Cuáles y cómo los obtendrías?"
   ]
  },
  {
   "cell_type": "markdown",
   "metadata": {
    "application/vnd.databricks.v1+cell": {
     "cellMetadata": {
      "byteLimit": 2048000,
      "rowLimit": 10000
     },
     "inputWidgets": {},
     "nuid": "66e5c393-eaee-4451-aa5d-79d662da04d2",
     "showTitle": false,
     "tableResultSettingsMap": {},
     "title": ""
    }
   },
   "source": [
    "1. Pocas paradas vs. muchas paradas\n",
    "\n",
    "- Si los pilotos con menos paradas en boxes tienen mejores posiciones finales, podría indicar que evitar paradas es clave para un buen rendimiento.\n",
    "- Sin embargo, si los pilotos con más paradas terminan en buenas posiciones, puede indicar que paradas estratégicas con neumáticos nuevos ofrecen ventaja.\n",
    "\n",
    "2. Impacto del tiempo total en pits\n",
    "\n",
    "- Pilotos que pasan menos tiempo en los pits suelen obtener mejores resultados.\n",
    "- Un tiempo prolongado en pits puede ser perjudicial, pero en ciertas carreras (ej. lluvia, accidentes) podría ser necesario.\n",
    "\n",
    "3. Número óptimo de paradas\n",
    "\n",
    "- Si hay un patrón de cantidad de paradas en los pilotos que terminan en el podio (1, 2 o 3 paradas), podríamos inferir la mejor estrategia.\n",
    "- Esto depende de factores como la duración de la carrera y el desgaste de los neumáticos."
   ]
  },
  {
   "cell_type": "code",
   "execution_count": 0,
   "metadata": {
    "application/vnd.databricks.v1+cell": {
     "cellMetadata": {
      "byteLimit": 2048000,
      "rowLimit": 10000
     },
     "inputWidgets": {},
     "nuid": "bced2387-4473-4f47-bec4-65a8b8cc1cce",
     "showTitle": false,
     "tableResultSettingsMap": {},
     "title": ""
    }
   },
   "outputs": [
    {
     "output_type": "stream",
     "name": "stdout",
     "output_type": "stream",
     "text": [
      "Correlación entre número de paradas y posición final: 0.039347079718276654\nCorrelación entre tiempo total en pits y posición final: -0.04888789338008715\n"
     ]
    }
   ],
   "source": [
    "correlation_pitstops = df_analysis.stat.corr(\"num_pit_stops\", \"positionOrder\")\n",
    "correlation_pit_time = df_analysis.stat.corr(\"total_pit_time\", \"positionOrder\")\n",
    "\n",
    "print(f\"Correlación entre número de paradas y posición final: {correlation_pitstops}\")\n",
    "print(f\"Correlación entre tiempo total en pits y posición final: {correlation_pit_time}\")"
   ]
  },
  {
   "cell_type": "markdown",
   "metadata": {
    "application/vnd.databricks.v1+cell": {
     "cellMetadata": {
      "byteLimit": 2048000,
      "rowLimit": 10000
     },
     "inputWidgets": {},
     "nuid": "d5308d8f-884e-402f-b477-298884008f29",
     "showTitle": false,
     "tableResultSettingsMap": {},
     "title": ""
    }
   },
   "source": [
    "Si la correlación es positiva, significa que más paradas o más tiempo en pits están relacionados con peores posiciones finales.\n",
    "\n",
    "Si la correlación es negativa, sugiere que más paradas pueden mejorar la posición final."
   ]
  },
  {
   "cell_type": "markdown",
   "metadata": {
    "application/vnd.databricks.v1+cell": {
     "cellMetadata": {
      "byteLimit": 2048000,
      "rowLimit": 10000
     },
     "inputWidgets": {},
     "nuid": "740c3859-6593-4814-b407-7eed99bb732e",
     "showTitle": false,
     "tableResultSettingsMap": {},
     "title": ""
    }
   },
   "source": [
    "Quizás podriamos mejorar si tuviesemos más datos. Posiblemente tipos de datos como el clima o los neumaticos. Los neumaticos se podrían recoger mediante una inspección a cada una de las casas competidoras para obtener esa información. El clima con distintos medidores, dependiendo que de queremos recoger para saber que puede llegar a afectar más a la carrera, si la lluvia, la temperatura, la humedad, etc."
   ]
  },
  {
   "cell_type": "markdown",
   "metadata": {
    "application/vnd.databricks.v1+cell": {
     "cellMetadata": {
      "byteLimit": 2048000,
      "rowLimit": 10000
     },
     "inputWidgets": {},
     "nuid": "b47f8a4f-c508-4adf-a806-a6fc67c7e866",
     "showTitle": false,
     "tableResultSettingsMap": {},
     "title": ""
    }
   },
   "source": [
    "# Ejercicio 3: Business Intelligence. Analizar el impacto de los tipos de circuito y la posición histórica de los pilotos en cada circuito"
   ]
  },
  {
   "cell_type": "markdown",
   "metadata": {
    "application/vnd.databricks.v1+cell": {
     "cellMetadata": {
      "byteLimit": 2048000,
      "rowLimit": 10000
     },
     "inputWidgets": {},
     "nuid": "886c06c0-6774-4367-a9fb-93c296b358ef",
     "showTitle": false,
     "tableResultSettingsMap": {},
     "title": ""
    }
   },
   "source": [
    "Objetivo: Descubrir patrones y tendencias que puedan predecir el rendimiento de pilotos y equipos, lo cual es crucial para la planificación estratégica y la toma de decisiones."
   ]
  },
  {
   "cell_type": "markdown",
   "metadata": {
    "application/vnd.databricks.v1+cell": {
     "cellMetadata": {
      "byteLimit": 2048000,
      "rowLimit": 10000
     },
     "inputWidgets": {},
     "nuid": "828c8218-e742-432f-a3f8-3710a0de1c41",
     "showTitle": false,
     "tableResultSettingsMap": {},
     "title": ""
    }
   },
   "source": [
    "##### 1. Preparación de Datos. Carga los datos de circuitos, resultados, tiempos por vuelta y pilotos."
   ]
  },
  {
   "cell_type": "code",
   "execution_count": 0,
   "metadata": {
    "application/vnd.databricks.v1+cell": {
     "cellMetadata": {
      "byteLimit": 2048000,
      "rowLimit": 10000
     },
     "inputWidgets": {},
     "nuid": "7f4867b3-22ad-4c7a-a9c4-31a745c73557",
     "showTitle": false,
     "tableResultSettingsMap": {},
     "title": ""
    }
   },
   "outputs": [],
   "source": [
    "df_circuits = spark.read.csv('dbfs:/FileStore/tables/circuits.csv', header=True, inferSchema=True)\n",
    "df_results = spark.read.csv('dbfs:/FileStore/tables/results.csv', header=True, inferSchema=True)\n",
    "df_laps = spark.read.csv('dbfs:/FileStore/tables/lap_times.csv', header=True, inferSchema=True)\n",
    "df_drivers = spark.read.csv('dbfs:/FileStore/tables/drivers.csv', header=True, inferSchema=True)"
   ]
  },
  {
   "cell_type": "markdown",
   "metadata": {
    "application/vnd.databricks.v1+cell": {
     "cellMetadata": {
      "byteLimit": 2048000,
      "rowLimit": 10000
     },
     "inputWidgets": {},
     "nuid": "559efa30-78c3-4852-93c4-b6bb26d6c022",
     "showTitle": false,
     "tableResultSettingsMap": {},
     "title": ""
    }
   },
   "source": [
    "##### 2. Relacionar las carreras con los circuitos"
   ]
  },
  {
   "cell_type": "code",
   "execution_count": 0,
   "metadata": {
    "application/vnd.databricks.v1+cell": {
     "cellMetadata": {
      "byteLimit": 2048000,
      "rowLimit": 10000
     },
     "inputWidgets": {},
     "nuid": "c8a041ce-ff8f-4b12-8291-c6d8221068b6",
     "showTitle": false,
     "tableResultSettingsMap": {},
     "title": ""
    }
   },
   "outputs": [
    {
     "output_type": "stream",
     "name": "stdout",
     "output_type": "stream",
     "text": [
      "root\n |-- resultId: integer (nullable = true)\n |-- raceId: integer (nullable = true)\n |-- driverId: integer (nullable = true)\n |-- constructorId: integer (nullable = true)\n |-- number: string (nullable = true)\n |-- grid: integer (nullable = true)\n |-- position: string (nullable = true)\n |-- positionText: string (nullable = true)\n |-- positionOrder: integer (nullable = true)\n |-- points: double (nullable = true)\n |-- laps: integer (nullable = true)\n |-- time: string (nullable = true)\n |-- milliseconds: string (nullable = true)\n |-- fastestLap: string (nullable = true)\n |-- rank: string (nullable = true)\n |-- fastestLapTime: string (nullable = true)\n |-- fastestLapSpeed: string (nullable = true)\n |-- statusId: integer (nullable = true)\n\nroot\n |-- circuitId: integer (nullable = true)\n |-- circuitRef: string (nullable = true)\n |-- name: string (nullable = true)\n |-- location: string (nullable = true)\n |-- country: string (nullable = true)\n |-- lat: double (nullable = true)\n |-- lng: double (nullable = true)\n |-- alt: integer (nullable = true)\n |-- url: string (nullable = true)\n\n"
     ]
    }
   ],
   "source": [
    "df_results.printSchema()\n",
    "df_circuits.printSchema()"
   ]
  },
  {
   "cell_type": "code",
   "execution_count": 0,
   "metadata": {
    "application/vnd.databricks.v1+cell": {
     "cellMetadata": {
      "byteLimit": 2048000,
      "rowLimit": 10000
     },
     "inputWidgets": {},
     "nuid": "141258cf-babc-454c-a08c-c86878c58506",
     "showTitle": false,
     "tableResultSettingsMap": {},
     "title": ""
    }
   },
   "outputs": [
    {
     "output_type": "execute_result",
     "data": {
      "text/html": [
       "<div>\n",
       "<style scoped>\n",
       "    .dataframe tbody tr th:only-of-type {\n",
       "        vertical-align: middle;\n",
       "    }\n",
       "\n",
       "    .dataframe tbody tr th {\n",
       "        vertical-align: top;\n",
       "    }\n",
       "\n",
       "    .dataframe thead th {\n",
       "        text-align: right;\n",
       "    }\n",
       "</style>\n",
       "<table border=\"1\" class=\"dataframe\">\n",
       "  <thead>\n",
       "    <tr style=\"text-align: right;\">\n",
       "      <th></th>\n",
       "      <th>raceId</th>\n",
       "      <th>resultId</th>\n",
       "      <th>driverId</th>\n",
       "      <th>constructorId</th>\n",
       "      <th>number</th>\n",
       "      <th>grid</th>\n",
       "      <th>position</th>\n",
       "      <th>positionText</th>\n",
       "      <th>positionOrder</th>\n",
       "      <th>points</th>\n",
       "      <th>laps</th>\n",
       "      <th>time</th>\n",
       "      <th>milliseconds</th>\n",
       "      <th>fastestLap</th>\n",
       "      <th>rank</th>\n",
       "      <th>fastestLapTime</th>\n",
       "      <th>fastestLapSpeed</th>\n",
       "      <th>statusId</th>\n",
       "      <th>circuitId</th>\n",
       "    </tr>\n",
       "  </thead>\n",
       "  <tbody>\n",
       "    <tr>\n",
       "      <th>0</th>\n",
       "      <td>18</td>\n",
       "      <td>1</td>\n",
       "      <td>1</td>\n",
       "      <td>1</td>\n",
       "      <td>22</td>\n",
       "      <td>1</td>\n",
       "      <td>1</td>\n",
       "      <td>1</td>\n",
       "      <td>1</td>\n",
       "      <td>10.0</td>\n",
       "      <td>58</td>\n",
       "      <td>1:34:50.616</td>\n",
       "      <td>5690616</td>\n",
       "      <td>39</td>\n",
       "      <td>2</td>\n",
       "      <td>1:27.452</td>\n",
       "      <td>218.300</td>\n",
       "      <td>1</td>\n",
       "      <td>1</td>\n",
       "    </tr>\n",
       "    <tr>\n",
       "      <th>1</th>\n",
       "      <td>18</td>\n",
       "      <td>2</td>\n",
       "      <td>2</td>\n",
       "      <td>2</td>\n",
       "      <td>3</td>\n",
       "      <td>5</td>\n",
       "      <td>2</td>\n",
       "      <td>2</td>\n",
       "      <td>2</td>\n",
       "      <td>8.0</td>\n",
       "      <td>58</td>\n",
       "      <td>+5.478</td>\n",
       "      <td>5696094</td>\n",
       "      <td>41</td>\n",
       "      <td>3</td>\n",
       "      <td>1:27.739</td>\n",
       "      <td>217.586</td>\n",
       "      <td>1</td>\n",
       "      <td>1</td>\n",
       "    </tr>\n",
       "    <tr>\n",
       "      <th>2</th>\n",
       "      <td>18</td>\n",
       "      <td>3</td>\n",
       "      <td>3</td>\n",
       "      <td>3</td>\n",
       "      <td>7</td>\n",
       "      <td>7</td>\n",
       "      <td>3</td>\n",
       "      <td>3</td>\n",
       "      <td>3</td>\n",
       "      <td>6.0</td>\n",
       "      <td>58</td>\n",
       "      <td>+8.163</td>\n",
       "      <td>5698779</td>\n",
       "      <td>41</td>\n",
       "      <td>5</td>\n",
       "      <td>1:28.090</td>\n",
       "      <td>216.719</td>\n",
       "      <td>1</td>\n",
       "      <td>1</td>\n",
       "    </tr>\n",
       "    <tr>\n",
       "      <th>3</th>\n",
       "      <td>18</td>\n",
       "      <td>4</td>\n",
       "      <td>4</td>\n",
       "      <td>4</td>\n",
       "      <td>5</td>\n",
       "      <td>11</td>\n",
       "      <td>4</td>\n",
       "      <td>4</td>\n",
       "      <td>4</td>\n",
       "      <td>5.0</td>\n",
       "      <td>58</td>\n",
       "      <td>+17.181</td>\n",
       "      <td>5707797</td>\n",
       "      <td>58</td>\n",
       "      <td>7</td>\n",
       "      <td>1:28.603</td>\n",
       "      <td>215.464</td>\n",
       "      <td>1</td>\n",
       "      <td>1</td>\n",
       "    </tr>\n",
       "    <tr>\n",
       "      <th>4</th>\n",
       "      <td>18</td>\n",
       "      <td>5</td>\n",
       "      <td>5</td>\n",
       "      <td>1</td>\n",
       "      <td>23</td>\n",
       "      <td>3</td>\n",
       "      <td>5</td>\n",
       "      <td>5</td>\n",
       "      <td>5</td>\n",
       "      <td>4.0</td>\n",
       "      <td>58</td>\n",
       "      <td>+18.014</td>\n",
       "      <td>5708630</td>\n",
       "      <td>43</td>\n",
       "      <td>1</td>\n",
       "      <td>1:27.418</td>\n",
       "      <td>218.385</td>\n",
       "      <td>1</td>\n",
       "      <td>1</td>\n",
       "    </tr>\n",
       "  </tbody>\n",
       "</table>\n",
       "</div>"
      ],
      "text/plain": [
       "   raceId  resultId  driverId  ...  fastestLapSpeed statusId  circuitId\n",
       "0      18         1         1  ...          218.300        1          1\n",
       "1      18         2         2  ...          217.586        1          1\n",
       "2      18         3         3  ...          216.719        1          1\n",
       "3      18         4         4  ...          215.464        1          1\n",
       "4      18         5         5  ...          218.385        1          1\n",
       "\n",
       "[5 rows x 19 columns]"
      ]
     },
     "execution_count": 584,
     "metadata": {},
     "output_type": "execute_result"
    }
   ],
   "source": [
    "# Primero unimos carreras con circuitos\n",
    "df_races_circuits = df_races.join(df_circuits, on=\"circuitId\", how=\"inner\")\n",
    "\n",
    "# Luego unimos el resultado con los resultados de las carreras\n",
    "df_fix_race = df_results.join(df_races_circuits.select(\"raceId\", \"circuitId\"), on=\"raceId\", how=\"inner\")\n",
    "\n",
    "# Convertimos a Pandas para inspeccionar\n",
    "df_fix_race_pd = df_fix_race.toPandas()\n",
    "df_fix_race_pd.head()"
   ]
  },
  {
   "cell_type": "markdown",
   "metadata": {
    "application/vnd.databricks.v1+cell": {
     "cellMetadata": {
      "byteLimit": 2048000,
      "rowLimit": 10000
     },
     "inputWidgets": {},
     "nuid": "696e3c53-bfc8-4f58-af01-6a79518a6b58",
     "showTitle": false,
     "tableResultSettingsMap": {},
     "title": ""
    }
   },
   "source": [
    "##### 3. Cálculo de posiciones históricas por circuitos de cada piloto. Podríamos predecir cual podría ser su rendimiento actual que nos influye en la estrategia."
   ]
  },
  {
   "cell_type": "code",
   "execution_count": 0,
   "metadata": {
    "application/vnd.databricks.v1+cell": {
     "cellMetadata": {
      "byteLimit": 2048000,
      "rowLimit": 10000
     },
     "inputWidgets": {},
     "nuid": "42d0de0c-62e8-42e2-afa7-847e5f0326c7",
     "showTitle": false,
     "tableResultSettingsMap": {},
     "title": ""
    }
   },
   "outputs": [
    {
     "output_type": "execute_result",
     "data": {
      "text/html": [
       "<div>\n",
       "<style scoped>\n",
       "    .dataframe tbody tr th:only-of-type {\n",
       "        vertical-align: middle;\n",
       "    }\n",
       "\n",
       "    .dataframe tbody tr th {\n",
       "        vertical-align: top;\n",
       "    }\n",
       "\n",
       "    .dataframe thead th {\n",
       "        text-align: right;\n",
       "    }\n",
       "</style>\n",
       "<table border=\"1\" class=\"dataframe\">\n",
       "  <thead>\n",
       "    <tr style=\"text-align: right;\">\n",
       "      <th></th>\n",
       "      <th>driverId</th>\n",
       "      <th>surname</th>\n",
       "      <th>races_count</th>\n",
       "      <th>avg_position</th>\n",
       "      <th>best_position</th>\n",
       "      <th>podiums</th>\n",
       "    </tr>\n",
       "  </thead>\n",
       "  <tbody>\n",
       "    <tr>\n",
       "      <th>0</th>\n",
       "      <td>446</td>\n",
       "      <td>Abate</td>\n",
       "      <td>2</td>\n",
       "      <td>NaN</td>\n",
       "      <td>\\N</td>\n",
       "      <td>0</td>\n",
       "    </tr>\n",
       "    <tr>\n",
       "      <th>1</th>\n",
       "      <td>725</td>\n",
       "      <td>Abecassis</td>\n",
       "      <td>2</td>\n",
       "      <td>NaN</td>\n",
       "      <td>\\N</td>\n",
       "      <td>0</td>\n",
       "    </tr>\n",
       "    <tr>\n",
       "      <th>2</th>\n",
       "      <td>186</td>\n",
       "      <td>Acheson</td>\n",
       "      <td>9</td>\n",
       "      <td>12.0</td>\n",
       "      <td>12</td>\n",
       "      <td>0</td>\n",
       "    </tr>\n",
       "    <tr>\n",
       "      <th>3</th>\n",
       "      <td>113</td>\n",
       "      <td>Adams</td>\n",
       "      <td>2</td>\n",
       "      <td>16.0</td>\n",
       "      <td>16</td>\n",
       "      <td>0</td>\n",
       "    </tr>\n",
       "    <tr>\n",
       "      <th>4</th>\n",
       "      <td>796</td>\n",
       "      <td>Ader</td>\n",
       "      <td>1</td>\n",
       "      <td>22.0</td>\n",
       "      <td>22</td>\n",
       "      <td>0</td>\n",
       "    </tr>\n",
       "  </tbody>\n",
       "</table>\n",
       "</div>"
      ],
      "text/plain": [
       "   driverId    surname  races_count  avg_position best_position  podiums\n",
       "0       446      Abate            2           NaN            \\N        0\n",
       "1       725  Abecassis            2           NaN            \\N        0\n",
       "2       186    Acheson            9          12.0            12        0\n",
       "3       113      Adams            2          16.0            16        0\n",
       "4       796       Ader            1          22.0            22        0"
      ]
     },
     "execution_count": 585,
     "metadata": {},
     "output_type": "execute_result"
    }
   ],
   "source": [
    "df_race_circuit = df_races.join(df_circuits, on=\"circuitId\", how=\"inner\")\n",
    "df_race_result = df_results.join(df_race_circuit.select(\"raceId\", \"circuitId\"), on=\"raceId\", how=\"inner\")\n",
    "df_driver_race = df_race_result.join(df_drivers.select(\"driverId\", \"surname\"), on=\"driverId\", how=\"inner\")\n",
    "\n",
    "\n",
    "historical_positions = (\n",
    "    df_driver_race\n",
    "    .groupBy(\"driverId\", \"surname\")\n",
    "    .agg(\n",
    "        F.count(\"position\").alias(\"races_count\"),\n",
    "        F.avg(\"position\").alias(\"avg_position\"),\n",
    "        F.min(\"position\").alias(\"best_position\"),\n",
    "        F.count(F.when(F.col(\"position\") <= 3, True)).alias(\"podiums\")\n",
    "    )\n",
    "    .orderBy(\"surname\", \"avg_position\")\n",
    ")\n",
    "\n",
    "\n",
    "historical_positions_pd = historical_positions.toPandas()\n",
    "historical_positions_pd.head()"
   ]
  },
  {
   "cell_type": "markdown",
   "metadata": {
    "application/vnd.databricks.v1+cell": {
     "cellMetadata": {
      "byteLimit": 2048000,
      "rowLimit": 10000
     },
     "inputWidgets": {},
     "nuid": "05c4e5a4-279b-45f5-a848-27a39be2d088",
     "showTitle": false,
     "tableResultSettingsMap": {},
     "title": ""
    }
   },
   "source": [
    "##### 4. Cálculo de tiempos medios de cada piloto por circuitos. Podríamos predecir cual podría ser su rendimiento actual que nos influye en la estrategia."
   ]
  },
  {
   "cell_type": "code",
   "execution_count": 0,
   "metadata": {
    "application/vnd.databricks.v1+cell": {
     "cellMetadata": {
      "byteLimit": 2048000,
      "rowLimit": 10000
     },
     "inputWidgets": {},
     "nuid": "b964b0a1-c25f-4e15-82ca-a22052c58f0a",
     "showTitle": false,
     "tableResultSettingsMap": {},
     "title": ""
    }
   },
   "outputs": [
    {
     "output_type": "execute_result",
     "data": {
      "text/html": [
       "<div>\n",
       "<style scoped>\n",
       "    .dataframe tbody tr th:only-of-type {\n",
       "        vertical-align: middle;\n",
       "    }\n",
       "\n",
       "    .dataframe tbody tr th {\n",
       "        vertical-align: top;\n",
       "    }\n",
       "\n",
       "    .dataframe thead th {\n",
       "        text-align: right;\n",
       "    }\n",
       "</style>\n",
       "<table border=\"1\" class=\"dataframe\">\n",
       "  <thead>\n",
       "    <tr style=\"text-align: right;\">\n",
       "      <th></th>\n",
       "      <th>driverId</th>\n",
       "      <th>surname</th>\n",
       "      <th>laps_count</th>\n",
       "      <th>avg_lap_time</th>\n",
       "      <th>best_lap_time</th>\n",
       "    </tr>\n",
       "  </thead>\n",
       "  <tbody>\n",
       "    <tr>\n",
       "      <th>0</th>\n",
       "      <td>851</td>\n",
       "      <td>Aitken</td>\n",
       "      <td>87</td>\n",
       "      <td>63319.402299</td>\n",
       "      <td>57392</td>\n",
       "    </tr>\n",
       "    <tr>\n",
       "      <th>1</th>\n",
       "      <td>27</td>\n",
       "      <td>Albers</td>\n",
       "      <td>2194</td>\n",
       "      <td>91653.005469</td>\n",
       "      <td>73907</td>\n",
       "    </tr>\n",
       "    <tr>\n",
       "      <th>2</th>\n",
       "      <td>848</td>\n",
       "      <td>Albon</td>\n",
       "      <td>5627</td>\n",
       "      <td>94918.974409</td>\n",
       "      <td>57056</td>\n",
       "    </tr>\n",
       "    <tr>\n",
       "      <th>3</th>\n",
       "      <td>55</td>\n",
       "      <td>Alesi</td>\n",
       "      <td>4870</td>\n",
       "      <td>92439.636345</td>\n",
       "      <td>72953</td>\n",
       "    </tr>\n",
       "    <tr>\n",
       "      <th>4</th>\n",
       "      <td>153</td>\n",
       "      <td>Alguersuari</td>\n",
       "      <td>2361</td>\n",
       "      <td>103473.191021</td>\n",
       "      <td>74861</td>\n",
       "    </tr>\n",
       "  </tbody>\n",
       "</table>\n",
       "</div>"
      ],
      "text/plain": [
       "   driverId      surname  laps_count   avg_lap_time  best_lap_time\n",
       "0       851       Aitken          87   63319.402299          57392\n",
       "1        27       Albers        2194   91653.005469          73907\n",
       "2       848        Albon        5627   94918.974409          57056\n",
       "3        55        Alesi        4870   92439.636345          72953\n",
       "4       153  Alguersuari        2361  103473.191021          74861"
      ]
     },
     "execution_count": 586,
     "metadata": {},
     "output_type": "execute_result"
    }
   ],
   "source": [
    "df_race_circuit = df_races.join(df_circuits, on=\"circuitId\", how=\"inner\")\n",
    "df_lap_race = df_laps.join(df_race_circuit.select(\"raceId\", \"circuitId\"), on=\"raceId\", how=\"inner\")\n",
    "df_lap_driver = df_lap_race.join(df_drivers.select(\"driverId\", \"surname\"), on=\"driverId\", how=\"inner\")\n",
    "\n",
    "avg_lap_times = (\n",
    "    df_lap_driver\n",
    "    .groupBy(\"driverId\", \"surname\")\n",
    "    .agg(\n",
    "        F.count(\"milliseconds\").alias(\"laps_count\"),\n",
    "        F.avg(\"milliseconds\").alias(\"avg_lap_time\"),\n",
    "        F.min(\"milliseconds\").alias(\"best_lap_time\")\n",
    "    )\n",
    "    .orderBy(\"surname\", \"avg_lap_time\")\n",
    ")\n",
    "\n",
    "avg_lap_times_pd = avg_lap_times.toPandas()\n",
    "avg_lap_times_pd.head()"
   ]
  },
  {
   "cell_type": "markdown",
   "metadata": {
    "application/vnd.databricks.v1+cell": {
     "cellMetadata": {
      "byteLimit": 2048000,
      "rowLimit": 10000
     },
     "inputWidgets": {},
     "nuid": "74fc8eed-f36a-441c-bf70-148fc280c24e",
     "showTitle": false,
     "tableResultSettingsMap": {},
     "title": ""
    }
   },
   "source": [
    "##### 5. Para un mejor análisis, crea un dataframe que incluya los 2 puntos anteriores"
   ]
  },
  {
   "cell_type": "code",
   "execution_count": 0,
   "metadata": {
    "application/vnd.databricks.v1+cell": {
     "cellMetadata": {
      "byteLimit": 2048000,
      "rowLimit": 10000
     },
     "inputWidgets": {},
     "nuid": "d5ec13d5-e2af-44da-954c-5f7061a47435",
     "showTitle": false,
     "tableResultSettingsMap": {},
     "title": ""
    }
   },
   "outputs": [
    {
     "output_type": "execute_result",
     "data": {
      "text/html": [
       "<div>\n",
       "<style scoped>\n",
       "    .dataframe tbody tr th:only-of-type {\n",
       "        vertical-align: middle;\n",
       "    }\n",
       "\n",
       "    .dataframe tbody tr th {\n",
       "        vertical-align: top;\n",
       "    }\n",
       "\n",
       "    .dataframe thead th {\n",
       "        text-align: right;\n",
       "    }\n",
       "</style>\n",
       "<table border=\"1\" class=\"dataframe\">\n",
       "  <thead>\n",
       "    <tr style=\"text-align: right;\">\n",
       "      <th></th>\n",
       "      <th>driverId</th>\n",
       "      <th>surname</th>\n",
       "      <th>laps_count</th>\n",
       "      <th>avg_lap_time</th>\n",
       "      <th>best_lap_time</th>\n",
       "      <th>races_count</th>\n",
       "      <th>avg_position</th>\n",
       "      <th>best_position</th>\n",
       "      <th>podiums</th>\n",
       "    </tr>\n",
       "  </thead>\n",
       "  <tbody>\n",
       "    <tr>\n",
       "      <th>0</th>\n",
       "      <td>55</td>\n",
       "      <td>Alesi</td>\n",
       "      <td>4870</td>\n",
       "      <td>92439.636345</td>\n",
       "      <td>72953</td>\n",
       "      <td>202</td>\n",
       "      <td>6.210084</td>\n",
       "      <td>1</td>\n",
       "      <td>32</td>\n",
       "    </tr>\n",
       "    <tr>\n",
       "      <th>1</th>\n",
       "      <td>838</td>\n",
       "      <td>Vandoorne</td>\n",
       "      <td>2207</td>\n",
       "      <td>96398.246942</td>\n",
       "      <td>68422</td>\n",
       "      <td>42</td>\n",
       "      <td>12.088235</td>\n",
       "      <td>10</td>\n",
       "      <td>0</td>\n",
       "    </tr>\n",
       "    <tr>\n",
       "      <th>2</th>\n",
       "      <td>81</td>\n",
       "      <td>Morbidelli</td>\n",
       "      <td>355</td>\n",
       "      <td>89921.912676</td>\n",
       "      <td>72826</td>\n",
       "      <td>70</td>\n",
       "      <td>10.294118</td>\n",
       "      <td>10</td>\n",
       "      <td>1</td>\n",
       "    </tr>\n",
       "    <tr>\n",
       "      <th>3</th>\n",
       "      <td>833</td>\n",
       "      <td>Merhi</td>\n",
       "      <td>737</td>\n",
       "      <td>100870.104478</td>\n",
       "      <td>74939</td>\n",
       "      <td>13</td>\n",
       "      <td>15.500000</td>\n",
       "      <td>12</td>\n",
       "      <td>0</td>\n",
       "    </tr>\n",
       "    <tr>\n",
       "      <th>4</th>\n",
       "      <td>84</td>\n",
       "      <td>Brundle</td>\n",
       "      <td>705</td>\n",
       "      <td>95444.026950</td>\n",
       "      <td>80414</td>\n",
       "      <td>165</td>\n",
       "      <td>7.192771</td>\n",
       "      <td>10</td>\n",
       "      <td>9</td>\n",
       "    </tr>\n",
       "  </tbody>\n",
       "</table>\n",
       "</div>"
      ],
      "text/plain": [
       "   driverId     surname  laps_count  ...  avg_position  best_position  podiums\n",
       "0        55       Alesi        4870  ...      6.210084              1       32\n",
       "1       838   Vandoorne        2207  ...     12.088235             10        0\n",
       "2        81  Morbidelli         355  ...     10.294118             10        1\n",
       "3       833       Merhi         737  ...     15.500000             12        0\n",
       "4        84     Brundle         705  ...      7.192771             10        9\n",
       "\n",
       "[5 rows x 9 columns]"
      ]
     },
     "execution_count": 587,
     "metadata": {},
     "output_type": "execute_result"
    }
   ],
   "source": [
    "df_combined = avg_lap_times.join(historical_positions, on=[\"driverId\", \"surname\"], how=\"inner\")\n",
    "\n",
    "df_combined_pd = df_combined.toPandas()\n",
    "df_combined_pd.head()"
   ]
  },
  {
   "cell_type": "markdown",
   "metadata": {
    "application/vnd.databricks.v1+cell": {
     "cellMetadata": {
      "byteLimit": 2048000,
      "rowLimit": 10000
     },
     "inputWidgets": {},
     "nuid": "36774ec5-d808-4400-a202-f16dca6d3292",
     "showTitle": false,
     "tableResultSettingsMap": {},
     "title": ""
    }
   },
   "source": [
    "##### 6. Realiza una predicción de la posición del piloto en cada circuito de la temporada actual teniendo en cuenta la media histórica de tiempos, de posición y la experiencia del piloto"
   ]
  },
  {
   "cell_type": "markdown",
   "metadata": {
    "application/vnd.databricks.v1+cell": {
     "cellMetadata": {
      "byteLimit": 2048000,
      "rowLimit": 10000
     },
     "inputWidgets": {},
     "nuid": "bed5370f-ffcb-4237-90ab-8b87eea94c15",
     "showTitle": false,
     "tableResultSettingsMap": {},
     "title": ""
    }
   },
   "source": [
    "Primero vamos a combinar nuestro dataframe con la columna restante del dataframe de results, cogeremos como experiencia del piloto el número de carreras completadas."
   ]
  },
  {
   "cell_type": "code",
   "execution_count": 0,
   "metadata": {
    "application/vnd.databricks.v1+cell": {
     "cellMetadata": {
      "byteLimit": 2048000,
      "rowLimit": 10000
     },
     "inputWidgets": {},
     "nuid": "4befa778-c916-4c05-b397-a4fef6e4996a",
     "showTitle": false,
     "tableResultSettingsMap": {},
     "title": ""
    }
   },
   "outputs": [
    {
     "output_type": "execute_result",
     "data": {
      "text/html": [
       "<div>\n",
       "<style scoped>\n",
       "    .dataframe tbody tr th:only-of-type {\n",
       "        vertical-align: middle;\n",
       "    }\n",
       "\n",
       "    .dataframe tbody tr th {\n",
       "        vertical-align: top;\n",
       "    }\n",
       "\n",
       "    .dataframe thead th {\n",
       "        text-align: right;\n",
       "    }\n",
       "</style>\n",
       "<table border=\"1\" class=\"dataframe\">\n",
       "  <thead>\n",
       "    <tr style=\"text-align: right;\">\n",
       "      <th></th>\n",
       "      <th>driverId</th>\n",
       "      <th>surname</th>\n",
       "      <th>laps_count</th>\n",
       "      <th>avg_lap_time</th>\n",
       "      <th>best_lap_time</th>\n",
       "      <th>races_count</th>\n",
       "      <th>avg_position</th>\n",
       "      <th>best_position</th>\n",
       "      <th>podiums</th>\n",
       "      <th>experience</th>\n",
       "    </tr>\n",
       "  </thead>\n",
       "  <tbody>\n",
       "    <tr>\n",
       "      <th>0</th>\n",
       "      <td>55</td>\n",
       "      <td>Alesi</td>\n",
       "      <td>4870</td>\n",
       "      <td>92439.636345</td>\n",
       "      <td>72953</td>\n",
       "      <td>202</td>\n",
       "      <td>6.210084</td>\n",
       "      <td>1</td>\n",
       "      <td>32</td>\n",
       "      <td>202</td>\n",
       "    </tr>\n",
       "    <tr>\n",
       "      <th>1</th>\n",
       "      <td>838</td>\n",
       "      <td>Vandoorne</td>\n",
       "      <td>2207</td>\n",
       "      <td>96398.246942</td>\n",
       "      <td>68422</td>\n",
       "      <td>42</td>\n",
       "      <td>12.088235</td>\n",
       "      <td>10</td>\n",
       "      <td>0</td>\n",
       "      <td>42</td>\n",
       "    </tr>\n",
       "    <tr>\n",
       "      <th>2</th>\n",
       "      <td>81</td>\n",
       "      <td>Morbidelli</td>\n",
       "      <td>355</td>\n",
       "      <td>89921.912676</td>\n",
       "      <td>72826</td>\n",
       "      <td>70</td>\n",
       "      <td>10.294118</td>\n",
       "      <td>10</td>\n",
       "      <td>1</td>\n",
       "      <td>70</td>\n",
       "    </tr>\n",
       "    <tr>\n",
       "      <th>3</th>\n",
       "      <td>833</td>\n",
       "      <td>Merhi</td>\n",
       "      <td>737</td>\n",
       "      <td>100870.104478</td>\n",
       "      <td>74939</td>\n",
       "      <td>13</td>\n",
       "      <td>15.500000</td>\n",
       "      <td>12</td>\n",
       "      <td>0</td>\n",
       "      <td>13</td>\n",
       "    </tr>\n",
       "    <tr>\n",
       "      <th>4</th>\n",
       "      <td>84</td>\n",
       "      <td>Brundle</td>\n",
       "      <td>705</td>\n",
       "      <td>95444.026950</td>\n",
       "      <td>80414</td>\n",
       "      <td>165</td>\n",
       "      <td>7.192771</td>\n",
       "      <td>10</td>\n",
       "      <td>9</td>\n",
       "      <td>165</td>\n",
       "    </tr>\n",
       "  </tbody>\n",
       "</table>\n",
       "</div>"
      ],
      "text/plain": [
       "   driverId     surname  laps_count  ...  best_position  podiums  experience\n",
       "0        55       Alesi        4870  ...              1       32         202\n",
       "1       838   Vandoorne        2207  ...             10        0          42\n",
       "2        81  Morbidelli         355  ...             10        1          70\n",
       "3       833       Merhi         737  ...             12        0          13\n",
       "4        84     Brundle         705  ...             10        9         165\n",
       "\n",
       "[5 rows x 10 columns]"
      ]
     },
     "execution_count": 588,
     "metadata": {},
     "output_type": "execute_result"
    }
   ],
   "source": [
    "df_experience = (\n",
    "    df_results\n",
    "    .groupBy(\"driverId\")\n",
    "    .agg(F.count(\"raceId\").alias(\"experience\"))\n",
    ")\n",
    "\n",
    "df_experience = df_experience.select(\"driverId\", \"experience\")\n",
    "\n",
    "# Combinar tiempos medios, posiciones históricas y experiencia en un solo DataFrame\n",
    "df_combined = (\n",
    "    df_combined\n",
    "    .join(df_experience, on=\"driverId\", how=\"left\")\n",
    ")\n",
    "\n",
    "# Convertir a Pandas para el modelo de Machine Learning\n",
    "df_combined_pd = df_combined.toPandas()\n",
    "\n",
    "df_combined_pd.head()"
   ]
  },
  {
   "cell_type": "markdown",
   "metadata": {
    "application/vnd.databricks.v1+cell": {
     "cellMetadata": {
      "byteLimit": 2048000,
      "rowLimit": 10000
     },
     "inputWidgets": {},
     "nuid": "5938a99e-5198-47a1-8f1f-42add0e7a016",
     "showTitle": false,
     "tableResultSettingsMap": {},
     "title": ""
    }
   },
   "source": [
    "Hacemos una limpieza de los datos porque tenemos 3 datos nulos de best_position, seguramente porque por el tiempo de vuelta la posición sea nula. Voy a usar el valor más bajo para estos 3, que sería lo que correspondería con ellos."
   ]
  },
  {
   "cell_type": "code",
   "execution_count": 0,
   "metadata": {
    "application/vnd.databricks.v1+cell": {
     "cellMetadata": {
      "byteLimit": 2048000,
      "rowLimit": 10000
     },
     "inputWidgets": {},
     "nuid": "93b5d997-4825-440d-a103-684d80cfe5cd",
     "showTitle": false,
     "tableResultSettingsMap": {},
     "title": ""
    }
   },
   "outputs": [
    {
     "output_type": "stream",
     "name": "stdout",
     "output_type": "stream",
     "text": [
      "<class 'pandas.core.frame.DataFrame'>\nRangeIndex: 143 entries, 0 to 142\nData columns (total 10 columns):\n #   Column         Non-Null Count  Dtype  \n---  ------         --------------  -----  \n 0   driverId       143 non-null    int32  \n 1   surname        143 non-null    object \n 2   laps_count     143 non-null    int64  \n 3   avg_lap_time   143 non-null    float64\n 4   best_lap_time  143 non-null    int32  \n 5   races_count    143 non-null    int64  \n 6   avg_position   140 non-null    float64\n 7   best_position  143 non-null    object \n 8   podiums        143 non-null    int64  \n 9   experience     143 non-null    int64  \ndtypes: float64(2), int32(2), int64(4), object(2)\nmemory usage: 10.2+ KB\n"
     ]
    }
   ],
   "source": [
    "df_combined_pd.info()"
   ]
  },
  {
   "cell_type": "code",
   "execution_count": 0,
   "metadata": {
    "application/vnd.databricks.v1+cell": {
     "cellMetadata": {
      "byteLimit": 2048000,
      "rowLimit": 10000
     },
     "inputWidgets": {},
     "nuid": "a6d087b5-4ca7-43ad-8f7a-240985c2c9b5",
     "showTitle": false,
     "tableResultSettingsMap": {},
     "title": ""
    }
   },
   "outputs": [
    {
     "output_type": "execute_result",
     "data": {
      "text/plain": [
       "driverId         0\n",
       "surname          0\n",
       "laps_count       0\n",
       "avg_lap_time     0\n",
       "best_lap_time    0\n",
       "races_count      0\n",
       "avg_position     3\n",
       "best_position    0\n",
       "podiums          0\n",
       "experience       0\n",
       "dtype: int64"
      ]
     },
     "execution_count": 590,
     "metadata": {},
     "output_type": "execute_result"
    }
   ],
   "source": [
    "df_combined_pd.isnull().sum()"
   ]
  },
  {
   "cell_type": "code",
   "execution_count": 0,
   "metadata": {
    "application/vnd.databricks.v1+cell": {
     "cellMetadata": {
      "byteLimit": 2048000,
      "rowLimit": 10000
     },
     "inputWidgets": {},
     "nuid": "8059b7f9-662d-4c22-9924-ca005b816c24",
     "showTitle": false,
     "tableResultSettingsMap": {},
     "title": ""
    }
   },
   "outputs": [],
   "source": [
    "df_combined_pd.replace('\\\\N', np.nan, inplace=True)\n",
    "\n",
    "#min_value = df_combined_pd[\"best_position\"].min()\n",
    "min_value = 22\n",
    "df_combined_pd.fillna(value=min_value, inplace=True)"
   ]
  },
  {
   "cell_type": "markdown",
   "metadata": {
    "application/vnd.databricks.v1+cell": {
     "cellMetadata": {
      "byteLimit": 2048000,
      "rowLimit": 10000
     },
     "inputWidgets": {},
     "nuid": "a7b05cbc-315c-48ac-8f7d-430bfcba7bab",
     "showTitle": false,
     "tableResultSettingsMap": {},
     "title": ""
    }
   },
   "source": [
    "A continuación creamos un modelo de regresión lineal el cual es el más conveniente para este caso"
   ]
  },
  {
   "cell_type": "code",
   "execution_count": 0,
   "metadata": {
    "application/vnd.databricks.v1+cell": {
     "cellMetadata": {
      "byteLimit": 2048000,
      "rowLimit": 10000
     },
     "inputWidgets": {},
     "nuid": "c29916e6-8ced-4791-8e28-3261874123f7",
     "showTitle": false,
     "tableResultSettingsMap": {},
     "title": ""
    }
   },
   "outputs": [
    {
     "output_type": "stream",
     "name": "stdout",
     "output_type": "stream",
     "text": [
      "RMSE: 2.404963568887449\nMAE: 1.9131820558829618\n"
     ]
    }
   ],
   "source": [
    "from sklearn.model_selection import train_test_split\n",
    "from sklearn.preprocessing import StandardScaler\n",
    "from sklearn.linear_model import LinearRegression\n",
    "from sklearn.metrics import mean_squared_error, mean_absolute_error\n",
    "import numpy as np\n",
    "\n",
    "# Seleccionar características y variable objetivo\n",
    "X = df_combined_pd[['avg_lap_time', 'avg_position', 'experience']]\n",
    "y = df_combined_pd['best_position']\n",
    "\n",
    "# Normalizar las características\n",
    "scaler = StandardScaler()\n",
    "X_scaled = scaler.fit_transform(X)\n",
    "\n",
    "# Dividir en conjunto de entrenamiento y prueba\n",
    "X_train, X_test, y_train, y_test = train_test_split(X_scaled, y, test_size=0.2, random_state=42)\n",
    "\n",
    "# Entrenar el modelo de Regresión Lineal\n",
    "model = LinearRegression()\n",
    "model.fit(X_train, y_train)\n",
    "\n",
    "# Predicciones y evaluación del modelo\n",
    "y_pred = model.predict(X_test)\n",
    "rmse = np.sqrt(mean_squared_error(y_test, y_pred))\n",
    "mae = mean_absolute_error(y_test, y_pred)\n",
    "\n",
    "print(f\"RMSE: {rmse}\")\n",
    "print(f\"MAE: {mae}\")"
   ]
  },
  {
   "cell_type": "markdown",
   "metadata": {
    "application/vnd.databricks.v1+cell": {
     "cellMetadata": {
      "byteLimit": 2048000,
      "rowLimit": 10000
     },
     "inputWidgets": {},
     "nuid": "bb326bab-d6ff-457a-a380-c5151d6b5138",
     "showTitle": false,
     "tableResultSettingsMap": {},
     "title": ""
    }
   },
   "source": [
    "visualizamos nuestro dataframe de predicciones"
   ]
  },
  {
   "cell_type": "code",
   "execution_count": 0,
   "metadata": {
    "application/vnd.databricks.v1+cell": {
     "cellMetadata": {
      "byteLimit": 2048000,
      "rowLimit": 10000
     },
     "inputWidgets": {},
     "nuid": "d6aa9c59-fd1c-41f9-9b0a-82d637d4f948",
     "showTitle": false,
     "tableResultSettingsMap": {},
     "title": ""
    }
   },
   "outputs": [
    {
     "output_type": "execute_result",
     "data": {
      "text/html": [
       "<div>\n",
       "<style scoped>\n",
       "    .dataframe tbody tr th:only-of-type {\n",
       "        vertical-align: middle;\n",
       "    }\n",
       "\n",
       "    .dataframe tbody tr th {\n",
       "        vertical-align: top;\n",
       "    }\n",
       "\n",
       "    .dataframe thead th {\n",
       "        text-align: right;\n",
       "    }\n",
       "</style>\n",
       "<table border=\"1\" class=\"dataframe\">\n",
       "  <thead>\n",
       "    <tr style=\"text-align: right;\">\n",
       "      <th></th>\n",
       "      <th>surname</th>\n",
       "      <th>predicted_position</th>\n",
       "    </tr>\n",
       "  </thead>\n",
       "  <tbody>\n",
       "    <tr>\n",
       "      <th>0</th>\n",
       "      <td>Alesi</td>\n",
       "      <td>2.0</td>\n",
       "    </tr>\n",
       "    <tr>\n",
       "      <th>1</th>\n",
       "      <td>Vandoorne</td>\n",
       "      <td>10.0</td>\n",
       "    </tr>\n",
       "    <tr>\n",
       "      <th>2</th>\n",
       "      <td>Morbidelli</td>\n",
       "      <td>8.0</td>\n",
       "    </tr>\n",
       "    <tr>\n",
       "      <th>3</th>\n",
       "      <td>Merhi</td>\n",
       "      <td>13.0</td>\n",
       "    </tr>\n",
       "    <tr>\n",
       "      <th>4</th>\n",
       "      <td>Brundle</td>\n",
       "      <td>4.0</td>\n",
       "    </tr>\n",
       "    <tr>\n",
       "      <th>...</th>\n",
       "      <td>...</td>\n",
       "      <td>...</td>\n",
       "    </tr>\n",
       "    <tr>\n",
       "      <th>138</th>\n",
       "      <td>Sargeant</td>\n",
       "      <td>13.0</td>\n",
       "    </tr>\n",
       "    <tr>\n",
       "      <th>139</th>\n",
       "      <td>Fittipaldi</td>\n",
       "      <td>15.0</td>\n",
       "    </tr>\n",
       "    <tr>\n",
       "      <th>140</th>\n",
       "      <td>Doohan</td>\n",
       "      <td>13.0</td>\n",
       "    </tr>\n",
       "    <tr>\n",
       "      <th>141</th>\n",
       "      <td>Bearman</td>\n",
       "      <td>9.0</td>\n",
       "    </tr>\n",
       "    <tr>\n",
       "      <th>142</th>\n",
       "      <td>Colapinto</td>\n",
       "      <td>10.0</td>\n",
       "    </tr>\n",
       "  </tbody>\n",
       "</table>\n",
       "<p>143 rows × 2 columns</p>\n",
       "</div>"
      ],
      "text/plain": [
       "        surname  predicted_position\n",
       "0         Alesi                 2.0\n",
       "1     Vandoorne                10.0\n",
       "2    Morbidelli                 8.0\n",
       "3         Merhi                13.0\n",
       "4       Brundle                 4.0\n",
       "..          ...                 ...\n",
       "138    Sargeant                13.0\n",
       "139  Fittipaldi                15.0\n",
       "140      Doohan                13.0\n",
       "141     Bearman                 9.0\n",
       "142   Colapinto                10.0\n",
       "\n",
       "[143 rows x 2 columns]"
      ]
     },
     "execution_count": 593,
     "metadata": {},
     "output_type": "execute_result"
    }
   ],
   "source": [
    "# Predicciones para la temporada actual\n",
    "df_season = df_combined_pd\n",
    "X_season = scaler.transform(df_season[['avg_lap_time', 'avg_position', 'experience']])\n",
    "predictions = model.predict(X_season)\n",
    "df_season['predicted_position'] = predictions.round()\n",
    "\n",
    "df_season[['surname', 'predicted_position']]"
   ]
  },
  {
   "cell_type": "markdown",
   "metadata": {
    "application/vnd.databricks.v1+cell": {
     "cellMetadata": {
      "byteLimit": 2048000,
      "rowLimit": 10000
     },
     "inputWidgets": {},
     "nuid": "4e2dea87-4180-45a2-a4ec-7e72d0535a1d",
     "showTitle": false,
     "tableResultSettingsMap": {},
     "title": ""
    }
   },
   "source": [
    "##### 7. Visualiza los datos."
   ]
  },
  {
   "cell_type": "code",
   "execution_count": 0,
   "metadata": {
    "application/vnd.databricks.v1+cell": {
     "cellMetadata": {
      "byteLimit": 2048000,
      "rowLimit": 10000
     },
     "inputWidgets": {},
     "nuid": "4fdc6bb5-4da6-4c4a-a0cb-c09f57db7ffa",
     "showTitle": false,
     "tableResultSettingsMap": {},
     "title": ""
    }
   },
   "outputs": [
    {
     "output_type": "display_data",
     "data": {
      "image/png": "[encoded data removed]",
      "text/plain": [
       "<Figure size 800x600 with 1 Axes>"
      ]
     },
     "metadata": {},
     "output_type": "display_data"
    }
   ],
   "source": [
    "import matplotlib.pyplot as plt\n",
    "import seaborn as sns\n",
    "import numpy as np\n",
    "\n",
    "plt.figure(figsize=(8, 6))\n",
    "sns.histplot(df_season['predicted_position'], kde=True, bins=30, color='blue')\n",
    "plt.title('Predicción de posiciones')\n",
    "plt.xlabel('Posición predicha')\n",
    "plt.ylabel('Frecuencia')\n",
    "plt.show()"
   ]
  },
  {
   "cell_type": "code",
   "execution_count": 0,
   "metadata": {
    "application/vnd.databricks.v1+cell": {
     "cellMetadata": {
      "byteLimit": 2048000,
      "rowLimit": 10000
     },
     "inputWidgets": {},
     "nuid": "c4586158-13a6-4f7b-8c7c-c2026266d3ce",
     "showTitle": false,
     "tableResultSettingsMap": {},
     "title": ""
    }
   },
   "outputs": [
    {
     "output_type": "display_data",
     "data": {
      "image/png": "[encoded data removed]",
      "text/plain": [
       "<Figure size 2000x2800 with 1 Axes>"
      ]
     },
     "metadata": {},
     "output_type": "display_data"
    }
   ],
   "source": [
    "plt.figure(figsize=(20, 28))\n",
    "sns.barplot(x='predicted_position', y='surname', data=df_season, palette='viridis')\n",
    "plt.title('Predicción de Posiciones por Piloto')\n",
    "plt.xlabel('Posición predicha')\n",
    "plt.ylabel('Piloto')\n",
    "plt.show()"
   ]
  }
 ],
 "metadata": {
  "application/vnd.databricks.v1+notebook": {
   "computePreferences": null,
   "dashboards": [],
   "environmentMetadata": {
    "base_environment": "",
    "client": "1"
   },
   "language": "python",
   "notebookMetadata": {
    "pythonIndentUnit": 4
   },
   "notebookName": "practica3Spark",
   "widgets": {}
  }
 },
 "nbformat": 4,
 "nbformat_minor": 0
}
