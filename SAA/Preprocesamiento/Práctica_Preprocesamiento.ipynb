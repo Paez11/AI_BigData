{
  "nbformat": 4,
  "nbformat_minor": 0,
  "metadata": {
    "colab": {
      "provenance": []
    },
    "kernelspec": {
      "name": "python3",
      "display_name": "Python 3"
    },
    "language_info": {
      "name": "python"
    }
  },
  "cells": [
    {
      "cell_type": "markdown",
      "source": [
        "En esta práctica vamos a generar una secuencia de valores pesos de diferentes hombres.\n",
        "\n",
        "Tienes que, usando las librerías vistas en este tema y google collab, mostrar:\n",
        "\n",
        "* Media, mediana y rangos.\n",
        "* Desviación estándar muestral.\n",
        "* Dibujar distribución de datos e histograma.\n",
        "* Buscar outliers (con los dos métodos) y observaciones influyentes (si las hay).\n",
        "* Dibujar un boxplot.\n",
        "* Estandarizar los datos de las tres formas que se han visto.\n",
        "\n",
        "A continuación tenéis el código con el que debéis comenzar vuestra práctica.\n",
        "\n"
      ],
      "metadata": {
        "id": "QDhXVyD2ns4k"
      }
    },
    {
      "cell_type": "code",
      "metadata": {
        "id": "K3PddQTzeSbe",
        "colab": {
          "base_uri": "https://localhost:8080/"
        },
        "outputId": "72ae51e5-f9f2-417f-9881-290dd5517896",
        "collapsed": true
      },
      "source": [
        "import numpy as np\n",
        "import pandas as pd\n",
        "\n",
        "# Generación de datos\n",
        "# ==============================================================================\n",
        "mu, sigma = 75, 15 # media y desviación típica de la población\n",
        "# Generamos una muestra de tamaño 500\n",
        "np.random.seed(1)\n",
        "datos = np.random.normal(mu, sigma, 500)\n",
        "# Cambiamos los valores de dos datos para convertirlos en outliers\n",
        "datos[50]=100\n",
        "datos[75]=1\n",
        "datos[150]=250\n",
        "datos[300]=-10\n",
        "datos"
      ],
      "execution_count": null,
      "outputs": [
        {
          "output_type": "execute_result",
          "data": {
            "text/plain": [
              "array([ 99.36518045,  65.8236538 ,  67.07742372,  58.90547067,\n",
              "        87.98111444,  40.47691955, 101.17217646,  63.58189649,\n",
              "        79.78558644,  71.25944437,  96.93161906,  44.09788936,\n",
              "        70.16374194,  69.23918468,  92.00654164,  58.50163099,\n",
              "        72.41357689,  61.83212373,  75.6332062 ,  83.74222821,\n",
              "        58.49071234,  92.17085565,  88.52386081,  82.53741508,\n",
              "        88.51283924,  64.74408211,  73.15664662,  60.96345849,\n",
              "        70.98167881,  82.955332  ,  64.62508872,  69.0486971 ,\n",
              "        64.6924095 ,  62.32191538,  64.93130804,  74.81003102,\n",
              "        58.24034477,  78.51623547,  99.89703266,  86.13066241,\n",
              "        72.12246671,  61.68556554,  63.79262559, 100.38681902,\n",
              "        75.76211632,  65.4450653 ,  77.86373227, 106.50382705,\n",
              "        76.80238429,  84.25804665, 100.        ,  69.7162523 ,\n",
              "        57.86222703,  69.75985916,  71.8665865 ,  83.79934787,\n",
              "        87.58475121,  88.96653122,  79.28380988,  88.27711746,\n",
              "        63.68403089,  93.79302233,  82.69394731,  70.52860747,\n",
              "        82.3277722 ,  73.8664243 ,  91.97444081,  97.79725225,\n",
              "       107.7836311 ,  54.05255497,  53.33829292,  67.43301206,\n",
              "        77.40055604,  88.14253382,  79.73452421,   1.        ,\n",
              "        70.40693981,  87.41961964,  78.45142103,  86.4301677 ,\n",
              "        71.66507786,  71.98862897,  77.79842086,  81.15077471,\n",
              "        77.9744958 ,  76.78512969,  64.94006571,  80.66345679,\n",
              "        76.82731906,  91.94225862,  92.9837682 ,  77.77734626,\n",
              "        69.37072575,  65.41904389,  81.35241531,  76.16010103,\n",
              "        69.84219487,  75.65395285,  65.69998734,  85.47048051,\n",
              "        68.29307153,  93.36761557,  81.05237463,  83.90367785,\n",
              "        58.57632231,  77.5407365 ,  86.10834677,  60.69449097,\n",
              "        71.00672241,  75.4892182 ,  54.4032402 ,  79.72739088,\n",
              "        87.69240971,  62.10726089,  80.25818968,  55.31574883,\n",
              "        74.41956736,  50.76341468,  91.82126562,  81.13350807,\n",
              "        74.63074566,  63.37257571,  94.10633895, 104.50652624,\n",
              "        47.13027203,  93.54246046,  99.4147613 ,  80.07017545,\n",
              "        57.01097951,  87.95017976,  72.28619547,  65.94119058,\n",
              "        56.54912796,  83.25806244,  86.89210299,  65.64703905,\n",
              "        82.80864506,  57.83487916,  87.02791548,  75.69850948,\n",
              "        72.20145342,  73.47381191,  88.03329236,  86.2561746 ,\n",
              "        82.94197987,  77.06551815,  76.16731692,  84.27570393,\n",
              "        78.48741839,  85.2382711 , 250.        ,  38.47743354,\n",
              "        90.58236903, 107.8046947 ,  81.62046665,  73.4976715 ,\n",
              "        72.95332884,  73.21418718,  75.26114112,  58.16971907,\n",
              "        67.24358313,  60.04459759,  78.73198742,  70.55038271,\n",
              "        82.42816986,  72.3794526 ,  89.79502782,  78.20300852,\n",
              "       107.86049593,  46.55458616,  65.29624968,  88.52230337,\n",
              "       112.9248856 ,  71.27047833,  75.6550349 ,  71.60528636,\n",
              "        94.97185669,  70.69038205,  85.2010476 ,  70.20297602,\n",
              "        55.91161867,  79.70321581,  82.5477722 ,  94.39838824,\n",
              "        73.3432946 ,  65.73956904,  83.44141645,  78.61105638,\n",
              "        79.20997616,  73.90330944,  92.40507855,  80.54239075,\n",
              "       103.56988063,  91.66585048,  84.88574694,  50.58842489,\n",
              "        84.0347892 ,  81.30423305,  87.16427509,  90.66663142,\n",
              "        68.98682712,  87.36008428,  66.56541853, 104.32317113,\n",
              "        55.020725  ,  48.58967159,  50.23918101,  61.64166624,\n",
              "        58.21326902, 104.34118356,  70.10250753,  54.85986316,\n",
              "        91.71574465,  66.20214092,  56.44719935,  88.13758391,\n",
              "        84.35043265,  68.47564976,  96.1131    ,  76.9365237 ,\n",
              "        99.25424398,  82.54111323,  98.38208311,  76.64104045,\n",
              "        56.70383405, 111.74052974,  66.81338748,  72.01743206,\n",
              "        64.49402243,  71.94908327,  78.64004162,  78.02745268,\n",
              "        84.91530431, 101.88237313,  73.19303142,  56.50318897,\n",
              "        57.2652281 ,  65.01368223,  49.88706289,  87.37544737,\n",
              "        67.52679655,  70.33522533,  74.97162776,  54.05069363,\n",
              "        62.08025459,  85.12067289,  84.27808696,  68.35242104,\n",
              "       102.15802371,  55.41409616,  69.82519185,  71.53740385,\n",
              "        33.103725  , 104.0629322 ,  80.49498022,  59.33115927,\n",
              "       105.76760164,  83.78493   ,  81.4428921 ,  65.89502403,\n",
              "        76.59334086,  52.11479526,  86.92539142,  69.38342522,\n",
              "        77.01072295,  93.03082293,  79.27122166,  78.93701168,\n",
              "        79.14748957,  64.00092594,  87.54007079,  98.15038666,\n",
              "        86.3820849 ,  88.27363222,  61.84077722,  61.98319166,\n",
              "        53.38685964,  93.48379606,  71.18730199,  95.99765914,\n",
              "        63.27132476,  68.43736526,  76.43137631,  88.82175103,\n",
              "        75.91125294,  78.16687133,  75.24791351,  77.6578158 ,\n",
              "        58.25294973,  76.21390651,  72.2013151 ,  74.14763279,\n",
              "        82.38504834,  64.78982788,  73.73237959,  70.53957176,\n",
              "        81.25953007,  86.77155977,  60.66862106,  83.78865647,\n",
              "       -10.        ,  52.93264611,  62.54742157,  61.791336  ,\n",
              "        70.81353418,  99.34273629,  75.20029015,  64.57959607,\n",
              "        84.32705256,  66.00293203,  91.85118243,  79.5790056 ,\n",
              "        95.83169095,  65.07983635, 120.46285669,  87.36876938,\n",
              "        84.81870229,  74.23217329,  64.11604321,  61.98346984,\n",
              "        72.96034011,  63.04095322,  79.24013568,  62.60853852,\n",
              "        84.31624051,  89.34182556,  64.41239239,  92.89029102,\n",
              "        71.43087096,  92.32931829,  81.57249521,  91.83492482,\n",
              "        60.04470307,  73.3980902 ,  96.77143891,  65.72944728,\n",
              "        44.44198161,  45.86116228,  37.40339021,  43.28754117,\n",
              "        68.82541255,  94.17792124,  68.36656081,  79.8529103 ,\n",
              "        73.35012765,  75.12823418,  72.4770174 ,  72.38729484,\n",
              "        81.9174615 ,  57.36025993,  90.15190766,  88.800269  ,\n",
              "        72.07413989,  87.08090136,  64.47983361,  66.94165464,\n",
              "        77.34395775,  72.14668462,  68.26892951,  64.91327942,\n",
              "        66.63757917,  89.08753116,  45.85014891,  80.28741547,\n",
              "        71.45344572,  85.9172025 ,  82.7261042 ,  33.26198299,\n",
              "        83.76969916,  79.86411365,  75.32794255,  67.96989276,\n",
              "        87.79921833,  68.80456035, 102.5207644 ,  83.46574283,\n",
              "       107.06742101,  63.21699005,  48.6611154 ,  85.72184396,\n",
              "        87.79056093,  75.53040146,  51.91810131,  68.28157223,\n",
              "        84.26978301,  72.23735512,  73.26022222,  72.36811547,\n",
              "        60.99128017,  67.00469511,  53.60166869, 101.51939922,\n",
              "        67.86940687,  82.16415273,  59.67171083,  86.91792359,\n",
              "        46.90258534,  88.80922677,  74.46948113, 106.6590758 ,\n",
              "        55.40198891,  76.1457072 ,  80.50847721,  93.49348789,\n",
              "        68.65714558,  76.2969661 ,  42.86299906,  62.54746704,\n",
              "        81.77423926,  91.56261489,  70.77395596, 105.84533285,\n",
              "       101.4037384 ,  74.09021262,  38.79745498,  48.33650436,\n",
              "        63.3321176 ,  91.73761662,  79.65408432,  43.58628276,\n",
              "        71.56851257,  99.20042062,  69.37792969,  63.75045574,\n",
              "       105.81936154,  75.80114305,  67.81264352,  80.25250738,\n",
              "        75.2574709 ,  68.56286583,  93.12684493,  91.73552704,\n",
              "        87.61292337,  73.45669174,  92.20350565,  74.25446131,\n",
              "        81.99964901,  90.50530302,  87.1326654 , 101.84632025,\n",
              "        81.76926024,  49.73910021,  57.59744843,  95.25160228,\n",
              "        70.03075245,  80.79808718,  62.22816515,  90.01322136,\n",
              "        69.22751627,  96.87162358,  67.01648969,  91.77200095,\n",
              "        85.11594157,  64.16412142,  91.48494499,  61.47548264,\n",
              "        62.66299217,  85.82566938,  65.61986998,  66.09235399,\n",
              "        69.84148936,  59.99746215,  90.67491615,  84.12772048,\n",
              "        73.96006955,  73.37411899,  81.75233269, 101.48002651,\n",
              "        88.06454704,  67.37314299,  86.66128808,  73.21843242,\n",
              "        72.01502724, 102.99707063,  68.71593153,  67.81222627,\n",
              "        45.71842069,  53.96506282,  81.76684408,  64.57618648,\n",
              "        82.73120703,  58.27693421,  63.49035261,  85.1185606 ,\n",
              "        96.91338571,  83.88709202,  92.96746263, 100.56891257,\n",
              "        90.6013373 ,  61.22339943,  73.41982931,  84.45293506,\n",
              "        68.77729648,  81.77919056,  51.31265572,  62.57058032,\n",
              "        82.93319618,  41.44370233,  58.38431247,  74.73422523])"
            ]
          },
          "metadata": {},
          "execution_count": 2
        }
      ]
    },
    {
      "cell_type": "markdown",
      "source": [
        "Media, mediana y rangos."
      ],
      "metadata": {
        "id": "5CHC4h7Xlpnk"
      }
    },
    {
      "cell_type": "code",
      "source": [
        "media = np.mean(datos)\n",
        "mediana = np.median(datos)\n",
        "rango = np.max(datos) - np.min(datos)\n",
        "print(f'media = {media}, mediana = {mediana}, rango = {rango}')"
      ],
      "metadata": {
        "id": "eP_4KFXklmbw",
        "outputId": "7accfb52-b980-40b0-ced7-a64192a3dfff",
        "colab": {
          "base_uri": "https://localhost:8080/"
        }
      },
      "execution_count": null,
      "outputs": [
        {
          "output_type": "stream",
          "name": "stdout",
          "text": [
            "media = 75.88254434431963, mediana = 75.58180382827763, rango = 260.0\n"
          ]
        }
      ]
    },
    {
      "cell_type": "markdown",
      "source": [
        "Desviación estándar muestral.\n"
      ],
      "metadata": {
        "id": "OrizGypdloHD"
      }
    },
    {
      "cell_type": "code",
      "source": [
        "np.std(datos)"
      ],
      "metadata": {
        "id": "7Gng1q1Ml9Eb",
        "outputId": "79b70ba4-fec0-41e0-9b50-0371e1448efa",
        "colab": {
          "base_uri": "https://localhost:8080/"
        }
      },
      "execution_count": null,
      "outputs": [
        {
          "output_type": "execute_result",
          "data": {
            "text/plain": [
              "17.428000115668254"
            ]
          },
          "metadata": {},
          "execution_count": 4
        }
      ]
    },
    {
      "cell_type": "markdown",
      "source": [
        "Dibujar distribución de datos e histograma."
      ],
      "metadata": {
        "id": "LPH6e7sUl9XK"
      }
    },
    {
      "cell_type": "code",
      "source": [
        "import matplotlib.pyplot as plt\n",
        "\n",
        "plt.hist(datos)\n",
        "plt.ylabel('Número de datos')\n",
        "plt.xlabel('valores')\n",
        "plt.title('Histograma')\n",
        "plt.show()"
      ],
      "metadata": {
        "id": "Jkfja9n2ny-X",
        "outputId": "a56039a8-90e0-4e41-a7c3-ba23dc900b23",
        "colab": {
          "base_uri": "https://localhost:8080/",
          "height": 472
        }
      },
      "execution_count": null,
      "outputs": [
        {
          "output_type": "display_data",
          "data": {
            "text/plain": [
              "<Figure size 640x480 with 1 Axes>"
            ],
            "image/png": "[encoded data removed]"
          },
          "metadata": {}
        }
      ]
    },
    {
      "cell_type": "code",
      "source": [
        "data = pd.DataFrame(datos)\n",
        "data.describe()"
      ],
      "metadata": {
        "id": "zLzPfbBAl_8v",
        "outputId": "aa08deb0-f28b-42a8-e6a0-ddc8f92b5da8",
        "colab": {
          "base_uri": "https://localhost:8080/",
          "height": 300
        }
      },
      "execution_count": null,
      "outputs": [
        {
          "output_type": "execute_result",
          "data": {
            "text/plain": [
              "                0\n",
              "count  500.000000\n",
              "mean    75.882544\n",
              "std     17.445454\n",
              "min    -10.000000\n",
              "25%     65.722082\n",
              "50%     75.581804\n",
              "75%     86.162040\n",
              "max    250.000000"
            ],
            "text/html": [
              "\n",
              "  <div id=\"df-2d446a7b-e900-4aa2-8051-aab9f1f00d12\" class=\"colab-df-container\">\n",
              "    <div>\n",
              "<style scoped>\n",
              "    .dataframe tbody tr th:only-of-type {\n",
              "        vertical-align: middle;\n",
              "    }\n",
              "\n",
              "    .dataframe tbody tr th {\n",
              "        vertical-align: top;\n",
              "    }\n",
              "\n",
              "    .dataframe thead th {\n",
              "        text-align: right;\n",
              "    }\n",
              "</style>\n",
              "<table border=\"1\" class=\"dataframe\">\n",
              "  <thead>\n",
              "    <tr style=\"text-align: right;\">\n",
              "      <th></th>\n",
              "      <th>0</th>\n",
              "    </tr>\n",
              "  </thead>\n",
              "  <tbody>\n",
              "    <tr>\n",
              "      <th>count</th>\n",
              "      <td>500.000000</td>\n",
              "    </tr>\n",
              "    <tr>\n",
              "      <th>mean</th>\n",
              "      <td>75.882544</td>\n",
              "    </tr>\n",
              "    <tr>\n",
              "      <th>std</th>\n",
              "      <td>17.445454</td>\n",
              "    </tr>\n",
              "    <tr>\n",
              "      <th>min</th>\n",
              "      <td>-10.000000</td>\n",
              "    </tr>\n",
              "    <tr>\n",
              "      <th>25%</th>\n",
              "      <td>65.722082</td>\n",
              "    </tr>\n",
              "    <tr>\n",
              "      <th>50%</th>\n",
              "      <td>75.581804</td>\n",
              "    </tr>\n",
              "    <tr>\n",
              "      <th>75%</th>\n",
              "      <td>86.162040</td>\n",
              "    </tr>\n",
              "    <tr>\n",
              "      <th>max</th>\n",
              "      <td>250.000000</td>\n",
              "    </tr>\n",
              "  </tbody>\n",
              "</table>\n",
              "</div>\n",
              "    <div class=\"colab-df-buttons\">\n",
              "\n",
              "  <div class=\"colab-df-container\">\n",
              "    <button class=\"colab-df-convert\" onclick=\"convertToInteractive('df-2d446a7b-e900-4aa2-8051-aab9f1f00d12')\"\n",
              "            title=\"Convert this dataframe to an interactive table.\"\n",
              "            style=\"display:none;\">\n",
              "\n",
              "  <svg xmlns=\"http://www.w3.org/2000/svg\" height=\"24px\" viewBox=\"0 -960 960 960\">\n",
              "    <path d=\"M120-120v-720h720v720H120Zm60-500h600v-160H180v160Zm220 220h160v-160H400v160Zm0 220h160v-160H400v160ZM180-400h160v-160H180v160Zm440 0h160v-160H620v160ZM180-180h160v-160H180v160Zm440 0h160v-160H620v160Z\"/>\n",
              "  </svg>\n",
              "    </button>\n",
              "\n",
              "  <style>\n",
              "    .colab-df-container {\n",
              "      display:flex;\n",
              "      gap: 12px;\n",
              "    }\n",
              "\n",
              "    .colab-df-convert {\n",
              "      background-color: #E8F0FE;\n",
              "      border: none;\n",
              "      border-radius: 50%;\n",
              "      cursor: pointer;\n",
              "      display: none;\n",
              "      fill: #1967D2;\n",
              "      height: 32px;\n",
              "      padding: 0 0 0 0;\n",
              "      width: 32px;\n",
              "    }\n",
              "\n",
              "    .colab-df-convert:hover {\n",
              "      background-color: #E2EBFA;\n",
              "      box-shadow: 0px 1px 2px rgba(60, 64, 67, 0.3), 0px 1px 3px 1px rgba(60, 64, 67, 0.15);\n",
              "      fill: #174EA6;\n",
              "    }\n",
              "\n",
              "    .colab-df-buttons div {\n",
              "      margin-bottom: 4px;\n",
              "    }\n",
              "\n",
              "    [theme=dark] .colab-df-convert {\n",
              "      background-color: #3B4455;\n",
              "      fill: #D2E3FC;\n",
              "    }\n",
              "\n",
              "    [theme=dark] .colab-df-convert:hover {\n",
              "      background-color: #434B5C;\n",
              "      box-shadow: 0px 1px 3px 1px rgba(0, 0, 0, 0.15);\n",
              "      filter: drop-shadow(0px 1px 2px rgba(0, 0, 0, 0.3));\n",
              "      fill: #FFFFFF;\n",
              "    }\n",
              "  </style>\n",
              "\n",
              "    <script>\n",
              "      const buttonEl =\n",
              "        document.querySelector('#df-2d446a7b-e900-4aa2-8051-aab9f1f00d12 button.colab-df-convert');\n",
              "      buttonEl.style.display =\n",
              "        google.colab.kernel.accessAllowed ? 'block' : 'none';\n",
              "\n",
              "      async function convertToInteractive(key) {\n",
              "        const element = document.querySelector('#df-2d446a7b-e900-4aa2-8051-aab9f1f00d12');\n",
              "        const dataTable =\n",
              "          await google.colab.kernel.invokeFunction('convertToInteractive',\n",
              "                                                    [key], {});\n",
              "        if (!dataTable) return;\n",
              "\n",
              "        const docLinkHtml = 'Like what you see? Visit the ' +\n",
              "          '<a target=\"_blank\" href=https://colab.research.google.com/notebooks/data_table.ipynb>data table notebook</a>'\n",
              "          + ' to learn more about interactive tables.';\n",
              "        element.innerHTML = '';\n",
              "        dataTable['output_type'] = 'display_data';\n",
              "        await google.colab.output.renderOutput(dataTable, element);\n",
              "        const docLink = document.createElement('div');\n",
              "        docLink.innerHTML = docLinkHtml;\n",
              "        element.appendChild(docLink);\n",
              "      }\n",
              "    </script>\n",
              "  </div>\n",
              "\n",
              "\n",
              "<div id=\"df-26c76a8a-3a14-4485-9f7d-5e5f15659ca1\">\n",
              "  <button class=\"colab-df-quickchart\" onclick=\"quickchart('df-26c76a8a-3a14-4485-9f7d-5e5f15659ca1')\"\n",
              "            title=\"Suggest charts\"\n",
              "            style=\"display:none;\">\n",
              "\n",
              "<svg xmlns=\"http://www.w3.org/2000/svg\" height=\"24px\"viewBox=\"0 0 24 24\"\n",
              "     width=\"24px\">\n",
              "    <g>\n",
              "        <path d=\"M19 3H5c-1.1 0-2 .9-2 2v14c0 1.1.9 2 2 2h14c1.1 0 2-.9 2-2V5c0-1.1-.9-2-2-2zM9 17H7v-7h2v7zm4 0h-2V7h2v10zm4 0h-2v-4h2v4z\"/>\n",
              "    </g>\n",
              "</svg>\n",
              "  </button>\n",
              "\n",
              "<style>\n",
              "  .colab-df-quickchart {\n",
              "      --bg-color: #E8F0FE;\n",
              "      --fill-color: #1967D2;\n",
              "      --hover-bg-color: #E2EBFA;\n",
              "      --hover-fill-color: #174EA6;\n",
              "      --disabled-fill-color: #AAA;\n",
              "      --disabled-bg-color: #DDD;\n",
              "  }\n",
              "\n",
              "  [theme=dark] .colab-df-quickchart {\n",
              "      --bg-color: #3B4455;\n",
              "      --fill-color: #D2E3FC;\n",
              "      --hover-bg-color: #434B5C;\n",
              "      --hover-fill-color: #FFFFFF;\n",
              "      --disabled-bg-color: #3B4455;\n",
              "      --disabled-fill-color: #666;\n",
              "  }\n",
              "\n",
              "  .colab-df-quickchart {\n",
              "    background-color: var(--bg-color);\n",
              "    border: none;\n",
              "    border-radius: 50%;\n",
              "    cursor: pointer;\n",
              "    display: none;\n",
              "    fill: var(--fill-color);\n",
              "    height: 32px;\n",
              "    padding: 0;\n",
              "    width: 32px;\n",
              "  }\n",
              "\n",
              "  .colab-df-quickchart:hover {\n",
              "    background-color: var(--hover-bg-color);\n",
              "    box-shadow: 0 1px 2px rgba(60, 64, 67, 0.3), 0 1px 3px 1px rgba(60, 64, 67, 0.15);\n",
              "    fill: var(--button-hover-fill-color);\n",
              "  }\n",
              "\n",
              "  .colab-df-quickchart-complete:disabled,\n",
              "  .colab-df-quickchart-complete:disabled:hover {\n",
              "    background-color: var(--disabled-bg-color);\n",
              "    fill: var(--disabled-fill-color);\n",
              "    box-shadow: none;\n",
              "  }\n",
              "\n",
              "  .colab-df-spinner {\n",
              "    border: 2px solid var(--fill-color);\n",
              "    border-color: transparent;\n",
              "    border-bottom-color: var(--fill-color);\n",
              "    animation:\n",
              "      spin 1s steps(1) infinite;\n",
              "  }\n",
              "\n",
              "  @keyframes spin {\n",
              "    0% {\n",
              "      border-color: transparent;\n",
              "      border-bottom-color: var(--fill-color);\n",
              "      border-left-color: var(--fill-color);\n",
              "    }\n",
              "    20% {\n",
              "      border-color: transparent;\n",
              "      border-left-color: var(--fill-color);\n",
              "      border-top-color: var(--fill-color);\n",
              "    }\n",
              "    30% {\n",
              "      border-color: transparent;\n",
              "      border-left-color: var(--fill-color);\n",
              "      border-top-color: var(--fill-color);\n",
              "      border-right-color: var(--fill-color);\n",
              "    }\n",
              "    40% {\n",
              "      border-color: transparent;\n",
              "      border-right-color: var(--fill-color);\n",
              "      border-top-color: var(--fill-color);\n",
              "    }\n",
              "    60% {\n",
              "      border-color: transparent;\n",
              "      border-right-color: var(--fill-color);\n",
              "    }\n",
              "    80% {\n",
              "      border-color: transparent;\n",
              "      border-right-color: var(--fill-color);\n",
              "      border-bottom-color: var(--fill-color);\n",
              "    }\n",
              "    90% {\n",
              "      border-color: transparent;\n",
              "      border-bottom-color: var(--fill-color);\n",
              "    }\n",
              "  }\n",
              "</style>\n",
              "\n",
              "  <script>\n",
              "    async function quickchart(key) {\n",
              "      const quickchartButtonEl =\n",
              "        document.querySelector('#' + key + ' button');\n",
              "      quickchartButtonEl.disabled = true;  // To prevent multiple clicks.\n",
              "      quickchartButtonEl.classList.add('colab-df-spinner');\n",
              "      try {\n",
              "        const charts = await google.colab.kernel.invokeFunction(\n",
              "            'suggestCharts', [key], {});\n",
              "      } catch (error) {\n",
              "        console.error('Error during call to suggestCharts:', error);\n",
              "      }\n",
              "      quickchartButtonEl.classList.remove('colab-df-spinner');\n",
              "      quickchartButtonEl.classList.add('colab-df-quickchart-complete');\n",
              "    }\n",
              "    (() => {\n",
              "      let quickchartButtonEl =\n",
              "        document.querySelector('#df-26c76a8a-3a14-4485-9f7d-5e5f15659ca1 button');\n",
              "      quickchartButtonEl.style.display =\n",
              "        google.colab.kernel.accessAllowed ? 'block' : 'none';\n",
              "    })();\n",
              "  </script>\n",
              "</div>\n",
              "\n",
              "    </div>\n",
              "  </div>\n"
            ],
            "application/vnd.google.colaboratory.intrinsic+json": {
              "type": "dataframe",
              "summary": "{\n  \"name\": \"data\",\n  \"rows\": 8,\n  \"fields\": [\n    {\n      \"column\": 0,\n      \"properties\": {\n        \"dtype\": \"number\",\n        \"std\": 167.10045474154802,\n        \"min\": -10.0,\n        \"max\": 500.0,\n        \"num_unique_values\": 8,\n        \"samples\": [\n          75.88254434431963,\n          75.58180382827763,\n          500.0\n        ],\n        \"semantic_type\": \"\",\n        \"description\": \"\"\n      }\n    }\n  ]\n}"
            }
          },
          "metadata": {},
          "execution_count": 6
        }
      ]
    },
    {
      "cell_type": "markdown",
      "source": [
        "Buscar outliers (con los dos métodos) y observaciones influyentes (si las hay)."
      ],
      "metadata": {
        "id": "lWd3k7fMmAtc"
      }
    },
    {
      "cell_type": "markdown",
      "source": [
        " Metodo 1"
      ],
      "metadata": {
        "id": "hB9s_WGPlCRv"
      }
    },
    {
      "cell_type": "code",
      "source": [
        "import scipy.stats as st\n",
        "\n",
        "p_g = 0.95\n",
        "alfa_g = (1-p_g)/2\n",
        "\n",
        "alfa = 1/(2*len(datos))\n",
        "Z_alfa = st.norm.ppf(1-alfa/2)\n",
        "\n",
        "alfa = round(alfa, 5)\n",
        "Z_alfa = round(Z_alfa, 5)\n",
        "print(f\" Alfa = {alfa}\")\n",
        "print(f\" CUANTIL Z_(1-alfa/2) = {Z_alfa}\")\n",
        "\n",
        "xL = np.mean(datos) - Z_alfa * np.std(datos)\n",
        "xU = np.mean(datos) + Z_alfa * np.std(datos)\n",
        "print(f\" Banda = [{xL}, {xU}]\")\n",
        "\n",
        "for i in range(len(datos)):\n",
        "    if datos[i] < xL  or datos[i] > xU:\n",
        "        print(f\" El dato[{i}]={datos[i]} es un outlier\")"
      ],
      "metadata": {
        "id": "NdxIY6EwmD2a",
        "outputId": "f47d87a0-fe88-4d2c-b677-0483942577d3",
        "colab": {
          "base_uri": "https://localhost:8080/"
        }
      },
      "execution_count": null,
      "outputs": [
        {
          "output_type": "stream",
          "name": "stdout",
          "text": [
            " Alfa = 0.001\n",
            " CUANTIL Z_(1-alfa/2) = 3.29053\n",
            " Banda = [18.53518712370977, 133.2299015649295]\n",
            " El dato[75]=1.0 es un outlier\n",
            " El dato[150]=250.0 es un outlier\n",
            " El dato[300]=-10.0 es un outlier\n"
          ]
        }
      ]
    },
    {
      "cell_type": "markdown",
      "source": [
        "Metodo 2"
      ],
      "metadata": {
        "id": "PeLPcXxPlEJe"
      }
    },
    {
      "cell_type": "code",
      "source": [
        "Q1 = np.quantile(datos, 0.25)\n",
        "Q3 = np.quantile(datos, 0.75)\n",
        "IQR = Q3 - Q1\n",
        "k = 3\n",
        "xL = Q1 - k * IQR\n",
        "xU = Q3 + k * IQR\n",
        "print(f\"Bandas: [{xL},{xU}]\")\n",
        "for i in  range(len(datos)):\n",
        "    if datos[i] < xL  or datos[i]>xU:\n",
        "        print(f\" El dato[{i}]={datos[i]} es un outlier\")"
      ],
      "metadata": {
        "colab": {
          "base_uri": "https://localhost:8080/"
        },
        "id": "mjqy7uOnk991",
        "outputId": "c26432eb-c357-4aa7-96c7-24ad5143229f"
      },
      "execution_count": null,
      "outputs": [
        {
          "output_type": "stream",
          "name": "stdout",
          "text": [
            "Bandas: [4.402207827140614,147.48191492762493]\n",
            " El dato[75]=1.0 es un outlier\n",
            " El dato[150]=250.0 es un outlier\n",
            " El dato[300]=-10.0 es un outlier\n"
          ]
        }
      ]
    },
    {
      "cell_type": "markdown",
      "source": [
        "Dibujar un boxplot."
      ],
      "metadata": {
        "id": "Osmhf5v3mEP1"
      }
    },
    {
      "cell_type": "code",
      "source": [
        "plt.boxplot(datos)\n",
        "\n",
        "plt.title('Boxplot de ejemplo con valores de outliers')\n",
        "plt.ylabel('Valores')\n",
        "\n",
        "plt.show()"
      ],
      "metadata": {
        "id": "VV4GQb_tmHeJ",
        "outputId": "213648b0-76d0-4a44-8275-2487f3f2683e",
        "colab": {
          "base_uri": "https://localhost:8080/",
          "height": 452
        }
      },
      "execution_count": null,
      "outputs": [
        {
          "output_type": "display_data",
          "data": {
            "text/plain": [
              "<Figure size 640x480 with 1 Axes>"
            ],
            "image/png": "[encoded data removed]"
          },
          "metadata": {}
        }
      ]
    },
    {
      "cell_type": "markdown",
      "source": [
        "Estandarizar los datos de las tres formas que se han visto."
      ],
      "metadata": {
        "id": "iaqa6N8imHwZ"
      }
    },
    {
      "cell_type": "code",
      "source": [
        "from sklearn.compose import ColumnTransformer\n",
        "from sklearn.preprocessing import StandardScaler\n",
        "from sklearn.preprocessing import MinMaxScaler\n",
        "from sklearn.compose import make_column_selector\n",
        "\n",
        "data = pd.DataFrame(datos)\n",
        "numeric_cols = data.select_dtypes(include=['float64', 'int']).columns.to_list()\n",
        "# Standard scaler\n",
        "preprocessor_SS = ColumnTransformer(\n",
        "                   [('scale', StandardScaler(), numeric_cols)],remainder='passthrough')\n",
        "\n",
        "# MinMaxScaler\n",
        "preprocessor_MM = ColumnTransformer(\n",
        "                   [('scale', MinMaxScaler(), numeric_cols)],remainder='passthrough')\n",
        "\n",
        "data_prep_SS = preprocessor_SS.fit_transform(data)\n",
        "data_prep_MM = preprocessor_MM.fit_transform(data)\n",
        "\n",
        "# Crear el preprocesador para z-score\n",
        "preprocessor_zscore = ColumnTransformer(\n",
        "    [('zscore', StandardScaler(), numeric_cols)], remainder='passthrough'\n",
        ")\n",
        "# Aplicar la transformación\n",
        "data_prep_zscore = preprocessor_zscore.fit_transform(data)\n",
        "# Convertir a DataFrame\n",
        "data_prep_zscore_df = pd.DataFrame(data_prep_zscore, columns=data.columns)\n",
        "\n",
        "# Función de escalamiento decimal\n",
        "def decimal_scaling(data, cols):\n",
        "    data_scaled = data.copy()\n",
        "    for col in cols:\n",
        "        max_abs_value = data[col].abs().max()\n",
        "        scaling_factor = 10 ** np.ceil(np.log10(max_abs_value + 1))\n",
        "        data_scaled[col] = data[col] / scaling_factor\n",
        "    return data_scaled\n",
        "data_prep_decimal_df = decimal_scaling(data, numeric_cols)"
      ],
      "metadata": {
        "id": "BXITBpX9mKYC"
      },
      "execution_count": null,
      "outputs": []
    },
    {
      "cell_type": "code",
      "source": [
        "plt.hist(data_prep_SS, 50)\n",
        "plt.ylabel('Número de datos')\n",
        "plt.xlabel('valores')\n",
        "plt.title('Histograma')\n",
        "plt.show()"
      ],
      "metadata": {
        "colab": {
          "base_uri": "https://localhost:8080/",
          "height": 472
        },
        "id": "cbIUpGBfxLvK",
        "outputId": "30915904-ef0e-40fd-9bf5-986c3ca297f3"
      },
      "execution_count": null,
      "outputs": [
        {
          "output_type": "display_data",
          "data": {
            "text/plain": [
              "<Figure size 640x480 with 1 Axes>"
            ],
            "image/png": "[encoded data removed]"
          },
          "metadata": {}
        }
      ]
    },
    {
      "cell_type": "code",
      "source": [
        "plt.hist(data_prep_zscore, 50)\n",
        "plt.ylabel('Número de datos')\n",
        "plt.xlabel('valores')\n",
        "plt.title('Histograma')\n",
        "plt.show()"
      ],
      "metadata": {
        "colab": {
          "base_uri": "https://localhost:8080/",
          "height": 472
        },
        "id": "CLmPUS-PxXFv",
        "outputId": "922f7bd0-18d7-4ad9-f89f-b46c5002d1ce"
      },
      "execution_count": null,
      "outputs": [
        {
          "output_type": "display_data",
          "data": {
            "text/plain": [
              "<Figure size 640x480 with 1 Axes>"
            ],
            "image/png": "[encoded data removed]"
          },
          "metadata": {}
        }
      ]
    },
    {
      "cell_type": "code",
      "source": [
        "plt.hist(data_prep_decimal_df, 50)\n",
        "plt.ylabel('Número de datos')\n",
        "plt.xlabel('valores')\n",
        "plt.title('Histograma')\n",
        "plt.show()"
      ],
      "metadata": {
        "colab": {
          "base_uri": "https://localhost:8080/",
          "height": 472
        },
        "id": "thgoAFsRzBqz",
        "outputId": "e577f93b-1857-484c-8733-804cb3ae25f2"
      },
      "execution_count": null,
      "outputs": [
        {
          "output_type": "display_data",
          "data": {
            "text/plain": [
              "<Figure size 640x480 with 1 Axes>"
            ],
            "image/png": "[encoded data removed]"
          },
          "metadata": {}
        }
      ]
    }
  ]
}